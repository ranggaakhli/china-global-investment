{
 "cells": [
  {
   "cell_type": "code",
   "execution_count": null,
   "metadata": {},
   "outputs": [],
   "source": []
  },
  {
   "cell_type": "code",
   "execution_count": 1,
   "metadata": {},
   "outputs": [],
   "source": [
    "import pandas as pd\n",
    "import numpy as np\n",
    "import matplotlib.pyplot as plt\n",
    "import seaborn as sns\n",
    "import plotly.express as px\n",
    "import plotly.express as px\n",
    "import plotly.io as pio\n"
   ]
  },
  {
   "cell_type": "code",
   "execution_count": 2,
   "metadata": {},
   "outputs": [
    {
     "data": {
      "application/vnd.plotly.v1+json": {
       "config": {
        "plotlyServerURL": "https://plot.ly"
       },
       "data": [
        {
         "hovertemplate": "Year=%{x}<br>Total Investment (Millions)=%{y}<extra></extra>",
         "legendgroup": "",
         "line": {
          "color": "#636efa",
          "dash": "solid"
         },
         "marker": {
          "symbol": "circle"
         },
         "mode": "markers+lines",
         "name": "",
         "orientation": "v",
         "showlegend": false,
         "type": "scatter",
         "x": [
          2005,
          2006,
          2007,
          2008,
          2009,
          2010,
          2011,
          2012,
          2013,
          2014,
          2015,
          2016,
          2017,
          2018,
          2019,
          2020,
          2021,
          2022,
          2023
         ],
         "xaxis": "x",
         "y": [
          10120,
          20110,
          30130,
          54780,
          57330,
          66340,
          70080,
          77620,
          74490,
          100670,
          115300,
          167440,
          174570,
          121390,
          100320,
          45270,
          50980,
          39360,
          56040
         ],
         "yaxis": "y"
        },
        {
         "mode": "lines",
         "name": "Trend Line",
         "type": "scatter",
         "x": [
          2005,
          2006,
          2007,
          2008,
          2009,
          2010,
          2011,
          2012,
          2013,
          2014,
          2015,
          2016,
          2017,
          2018,
          2019,
          2020,
          2021,
          2022,
          2023
         ],
         "y": [
          null,
          null,
          null,
          null,
          34494,
          45738,
          55732,
          65230,
          69172,
          77840,
          87632,
          107104,
          126494,
          135874,
          135804,
          121798,
          98506,
          71464,
          58394
         ]
        }
       ],
       "layout": {
        "annotations": [
         {
          "showarrow": false,
          "text": "Source: American Enterprise Institute | Visualization: https://medium.com/@ranggaakhli",
          "x": 0.5,
          "xref": "paper",
          "y": -0.3,
          "yref": "paper"
         }
        ],
        "font": {
         "size": 14
        },
        "legend": {
         "orientation": "h",
         "tracegroupgap": 0,
         "x": 1,
         "xanchor": "right",
         "y": 1.02,
         "yanchor": "bottom"
        },
        "template": {
         "data": {
          "bar": [
           {
            "error_x": {
             "color": "#2a3f5f"
            },
            "error_y": {
             "color": "#2a3f5f"
            },
            "marker": {
             "line": {
              "color": "#E5ECF6",
              "width": 0.5
             },
             "pattern": {
              "fillmode": "overlay",
              "size": 10,
              "solidity": 0.2
             }
            },
            "type": "bar"
           }
          ],
          "barpolar": [
           {
            "marker": {
             "line": {
              "color": "#E5ECF6",
              "width": 0.5
             },
             "pattern": {
              "fillmode": "overlay",
              "size": 10,
              "solidity": 0.2
             }
            },
            "type": "barpolar"
           }
          ],
          "carpet": [
           {
            "aaxis": {
             "endlinecolor": "#2a3f5f",
             "gridcolor": "white",
             "linecolor": "white",
             "minorgridcolor": "white",
             "startlinecolor": "#2a3f5f"
            },
            "baxis": {
             "endlinecolor": "#2a3f5f",
             "gridcolor": "white",
             "linecolor": "white",
             "minorgridcolor": "white",
             "startlinecolor": "#2a3f5f"
            },
            "type": "carpet"
           }
          ],
          "choropleth": [
           {
            "colorbar": {
             "outlinewidth": 0,
             "ticks": ""
            },
            "type": "choropleth"
           }
          ],
          "contour": [
           {
            "colorbar": {
             "outlinewidth": 0,
             "ticks": ""
            },
            "colorscale": [
             [
              0,
              "#0d0887"
             ],
             [
              0.1111111111111111,
              "#46039f"
             ],
             [
              0.2222222222222222,
              "#7201a8"
             ],
             [
              0.3333333333333333,
              "#9c179e"
             ],
             [
              0.4444444444444444,
              "#bd3786"
             ],
             [
              0.5555555555555556,
              "#d8576b"
             ],
             [
              0.6666666666666666,
              "#ed7953"
             ],
             [
              0.7777777777777778,
              "#fb9f3a"
             ],
             [
              0.8888888888888888,
              "#fdca26"
             ],
             [
              1,
              "#f0f921"
             ]
            ],
            "type": "contour"
           }
          ],
          "contourcarpet": [
           {
            "colorbar": {
             "outlinewidth": 0,
             "ticks": ""
            },
            "type": "contourcarpet"
           }
          ],
          "heatmap": [
           {
            "colorbar": {
             "outlinewidth": 0,
             "ticks": ""
            },
            "colorscale": [
             [
              0,
              "#0d0887"
             ],
             [
              0.1111111111111111,
              "#46039f"
             ],
             [
              0.2222222222222222,
              "#7201a8"
             ],
             [
              0.3333333333333333,
              "#9c179e"
             ],
             [
              0.4444444444444444,
              "#bd3786"
             ],
             [
              0.5555555555555556,
              "#d8576b"
             ],
             [
              0.6666666666666666,
              "#ed7953"
             ],
             [
              0.7777777777777778,
              "#fb9f3a"
             ],
             [
              0.8888888888888888,
              "#fdca26"
             ],
             [
              1,
              "#f0f921"
             ]
            ],
            "type": "heatmap"
           }
          ],
          "heatmapgl": [
           {
            "colorbar": {
             "outlinewidth": 0,
             "ticks": ""
            },
            "colorscale": [
             [
              0,
              "#0d0887"
             ],
             [
              0.1111111111111111,
              "#46039f"
             ],
             [
              0.2222222222222222,
              "#7201a8"
             ],
             [
              0.3333333333333333,
              "#9c179e"
             ],
             [
              0.4444444444444444,
              "#bd3786"
             ],
             [
              0.5555555555555556,
              "#d8576b"
             ],
             [
              0.6666666666666666,
              "#ed7953"
             ],
             [
              0.7777777777777778,
              "#fb9f3a"
             ],
             [
              0.8888888888888888,
              "#fdca26"
             ],
             [
              1,
              "#f0f921"
             ]
            ],
            "type": "heatmapgl"
           }
          ],
          "histogram": [
           {
            "marker": {
             "pattern": {
              "fillmode": "overlay",
              "size": 10,
              "solidity": 0.2
             }
            },
            "type": "histogram"
           }
          ],
          "histogram2d": [
           {
            "colorbar": {
             "outlinewidth": 0,
             "ticks": ""
            },
            "colorscale": [
             [
              0,
              "#0d0887"
             ],
             [
              0.1111111111111111,
              "#46039f"
             ],
             [
              0.2222222222222222,
              "#7201a8"
             ],
             [
              0.3333333333333333,
              "#9c179e"
             ],
             [
              0.4444444444444444,
              "#bd3786"
             ],
             [
              0.5555555555555556,
              "#d8576b"
             ],
             [
              0.6666666666666666,
              "#ed7953"
             ],
             [
              0.7777777777777778,
              "#fb9f3a"
             ],
             [
              0.8888888888888888,
              "#fdca26"
             ],
             [
              1,
              "#f0f921"
             ]
            ],
            "type": "histogram2d"
           }
          ],
          "histogram2dcontour": [
           {
            "colorbar": {
             "outlinewidth": 0,
             "ticks": ""
            },
            "colorscale": [
             [
              0,
              "#0d0887"
             ],
             [
              0.1111111111111111,
              "#46039f"
             ],
             [
              0.2222222222222222,
              "#7201a8"
             ],
             [
              0.3333333333333333,
              "#9c179e"
             ],
             [
              0.4444444444444444,
              "#bd3786"
             ],
             [
              0.5555555555555556,
              "#d8576b"
             ],
             [
              0.6666666666666666,
              "#ed7953"
             ],
             [
              0.7777777777777778,
              "#fb9f3a"
             ],
             [
              0.8888888888888888,
              "#fdca26"
             ],
             [
              1,
              "#f0f921"
             ]
            ],
            "type": "histogram2dcontour"
           }
          ],
          "mesh3d": [
           {
            "colorbar": {
             "outlinewidth": 0,
             "ticks": ""
            },
            "type": "mesh3d"
           }
          ],
          "parcoords": [
           {
            "line": {
             "colorbar": {
              "outlinewidth": 0,
              "ticks": ""
             }
            },
            "type": "parcoords"
           }
          ],
          "pie": [
           {
            "automargin": true,
            "type": "pie"
           }
          ],
          "scatter": [
           {
            "fillpattern": {
             "fillmode": "overlay",
             "size": 10,
             "solidity": 0.2
            },
            "type": "scatter"
           }
          ],
          "scatter3d": [
           {
            "line": {
             "colorbar": {
              "outlinewidth": 0,
              "ticks": ""
             }
            },
            "marker": {
             "colorbar": {
              "outlinewidth": 0,
              "ticks": ""
             }
            },
            "type": "scatter3d"
           }
          ],
          "scattercarpet": [
           {
            "marker": {
             "colorbar": {
              "outlinewidth": 0,
              "ticks": ""
             }
            },
            "type": "scattercarpet"
           }
          ],
          "scattergeo": [
           {
            "marker": {
             "colorbar": {
              "outlinewidth": 0,
              "ticks": ""
             }
            },
            "type": "scattergeo"
           }
          ],
          "scattergl": [
           {
            "marker": {
             "colorbar": {
              "outlinewidth": 0,
              "ticks": ""
             }
            },
            "type": "scattergl"
           }
          ],
          "scattermapbox": [
           {
            "marker": {
             "colorbar": {
              "outlinewidth": 0,
              "ticks": ""
             }
            },
            "type": "scattermapbox"
           }
          ],
          "scatterpolar": [
           {
            "marker": {
             "colorbar": {
              "outlinewidth": 0,
              "ticks": ""
             }
            },
            "type": "scatterpolar"
           }
          ],
          "scatterpolargl": [
           {
            "marker": {
             "colorbar": {
              "outlinewidth": 0,
              "ticks": ""
             }
            },
            "type": "scatterpolargl"
           }
          ],
          "scatterternary": [
           {
            "marker": {
             "colorbar": {
              "outlinewidth": 0,
              "ticks": ""
             }
            },
            "type": "scatterternary"
           }
          ],
          "surface": [
           {
            "colorbar": {
             "outlinewidth": 0,
             "ticks": ""
            },
            "colorscale": [
             [
              0,
              "#0d0887"
             ],
             [
              0.1111111111111111,
              "#46039f"
             ],
             [
              0.2222222222222222,
              "#7201a8"
             ],
             [
              0.3333333333333333,
              "#9c179e"
             ],
             [
              0.4444444444444444,
              "#bd3786"
             ],
             [
              0.5555555555555556,
              "#d8576b"
             ],
             [
              0.6666666666666666,
              "#ed7953"
             ],
             [
              0.7777777777777778,
              "#fb9f3a"
             ],
             [
              0.8888888888888888,
              "#fdca26"
             ],
             [
              1,
              "#f0f921"
             ]
            ],
            "type": "surface"
           }
          ],
          "table": [
           {
            "cells": {
             "fill": {
              "color": "#EBF0F8"
             },
             "line": {
              "color": "white"
             }
            },
            "header": {
             "fill": {
              "color": "#C8D4E3"
             },
             "line": {
              "color": "white"
             }
            },
            "type": "table"
           }
          ]
         },
         "layout": {
          "annotationdefaults": {
           "arrowcolor": "#2a3f5f",
           "arrowhead": 0,
           "arrowwidth": 1
          },
          "autotypenumbers": "strict",
          "coloraxis": {
           "colorbar": {
            "outlinewidth": 0,
            "ticks": ""
           }
          },
          "colorscale": {
           "diverging": [
            [
             0,
             "#8e0152"
            ],
            [
             0.1,
             "#c51b7d"
            ],
            [
             0.2,
             "#de77ae"
            ],
            [
             0.3,
             "#f1b6da"
            ],
            [
             0.4,
             "#fde0ef"
            ],
            [
             0.5,
             "#f7f7f7"
            ],
            [
             0.6,
             "#e6f5d0"
            ],
            [
             0.7,
             "#b8e186"
            ],
            [
             0.8,
             "#7fbc41"
            ],
            [
             0.9,
             "#4d9221"
            ],
            [
             1,
             "#276419"
            ]
           ],
           "sequential": [
            [
             0,
             "#0d0887"
            ],
            [
             0.1111111111111111,
             "#46039f"
            ],
            [
             0.2222222222222222,
             "#7201a8"
            ],
            [
             0.3333333333333333,
             "#9c179e"
            ],
            [
             0.4444444444444444,
             "#bd3786"
            ],
            [
             0.5555555555555556,
             "#d8576b"
            ],
            [
             0.6666666666666666,
             "#ed7953"
            ],
            [
             0.7777777777777778,
             "#fb9f3a"
            ],
            [
             0.8888888888888888,
             "#fdca26"
            ],
            [
             1,
             "#f0f921"
            ]
           ],
           "sequentialminus": [
            [
             0,
             "#0d0887"
            ],
            [
             0.1111111111111111,
             "#46039f"
            ],
            [
             0.2222222222222222,
             "#7201a8"
            ],
            [
             0.3333333333333333,
             "#9c179e"
            ],
            [
             0.4444444444444444,
             "#bd3786"
            ],
            [
             0.5555555555555556,
             "#d8576b"
            ],
            [
             0.6666666666666666,
             "#ed7953"
            ],
            [
             0.7777777777777778,
             "#fb9f3a"
            ],
            [
             0.8888888888888888,
             "#fdca26"
            ],
            [
             1,
             "#f0f921"
            ]
           ]
          },
          "colorway": [
           "#636efa",
           "#EF553B",
           "#00cc96",
           "#ab63fa",
           "#FFA15A",
           "#19d3f3",
           "#FF6692",
           "#B6E880",
           "#FF97FF",
           "#FECB52"
          ],
          "font": {
           "color": "#2a3f5f"
          },
          "geo": {
           "bgcolor": "white",
           "lakecolor": "white",
           "landcolor": "#E5ECF6",
           "showlakes": true,
           "showland": true,
           "subunitcolor": "white"
          },
          "hoverlabel": {
           "align": "left"
          },
          "hovermode": "closest",
          "mapbox": {
           "style": "light"
          },
          "paper_bgcolor": "white",
          "plot_bgcolor": "#E5ECF6",
          "polar": {
           "angularaxis": {
            "gridcolor": "white",
            "linecolor": "white",
            "ticks": ""
           },
           "bgcolor": "#E5ECF6",
           "radialaxis": {
            "gridcolor": "white",
            "linecolor": "white",
            "ticks": ""
           }
          },
          "scene": {
           "xaxis": {
            "backgroundcolor": "#E5ECF6",
            "gridcolor": "white",
            "gridwidth": 2,
            "linecolor": "white",
            "showbackground": true,
            "ticks": "",
            "zerolinecolor": "white"
           },
           "yaxis": {
            "backgroundcolor": "#E5ECF6",
            "gridcolor": "white",
            "gridwidth": 2,
            "linecolor": "white",
            "showbackground": true,
            "ticks": "",
            "zerolinecolor": "white"
           },
           "zaxis": {
            "backgroundcolor": "#E5ECF6",
            "gridcolor": "white",
            "gridwidth": 2,
            "linecolor": "white",
            "showbackground": true,
            "ticks": "",
            "zerolinecolor": "white"
           }
          },
          "shapedefaults": {
           "line": {
            "color": "#2a3f5f"
           }
          },
          "ternary": {
           "aaxis": {
            "gridcolor": "white",
            "linecolor": "white",
            "ticks": ""
           },
           "baxis": {
            "gridcolor": "white",
            "linecolor": "white",
            "ticks": ""
           },
           "bgcolor": "#E5ECF6",
           "caxis": {
            "gridcolor": "white",
            "linecolor": "white",
            "ticks": ""
           }
          },
          "title": {
           "x": 0.05
          },
          "xaxis": {
           "automargin": true,
           "gridcolor": "white",
           "linecolor": "white",
           "ticks": "",
           "title": {
            "standoff": 15
           },
           "zerolinecolor": "white",
           "zerolinewidth": 2
          },
          "yaxis": {
           "automargin": true,
           "gridcolor": "white",
           "linecolor": "white",
           "ticks": "",
           "title": {
            "standoff": 15
           },
           "zerolinecolor": "white",
           "zerolinewidth": 2
          }
         }
        },
        "title": {
         "font": {
          "size": 24
         },
         "text": "China's Total Global Investment Trends Over Time",
         "x": 0.5
        },
        "xaxis": {
         "anchor": "y",
         "domain": [
          0,
          1
         ],
         "tickmode": "linear",
         "title": {
          "text": "Year"
         }
        },
        "yaxis": {
         "anchor": "x",
         "domain": [
          0,
          1
         ],
         "tickformat": ",.0f",
         "title": {
          "text": "Total Investment (Millions)"
         }
        }
       }
      }
     },
     "metadata": {},
     "output_type": "display_data"
    }
   ],
   "source": [
    "# Load investment data\n",
    "investment_data = pd.read_excel('/Users/ranggaakhli/Documents/China-global-investment-tracker.xlsx')\n",
    "\n",
    "# Group investment data by year, sum the quantities\n",
    "investment_by_year = investment_data.groupby('Year')['Quantity in Millions'].sum().reset_index()\n",
    "\n",
    "# Create line chart to compare total investments over the years\n",
    "fig = px.line(investment_by_year, x='Year', y='Quantity in Millions', \n",
    "              title=\"China's Total Global Investment Trends Over Time\", \n",
    "              labels={'Year': 'Year', 'Quantity in Millions': 'Total Investment (Millions)'}, \n",
    "              markers=True,  # Show markers at data points\n",
    "              template='plotly')  # Use light theme for better visualization\n",
    "\n",
    "# Add trend line using ordinary least squares method\n",
    "fig.add_scatter(x=investment_by_year['Year'], \n",
    "                y=investment_by_year['Quantity in Millions'].rolling(window=5).mean(), \n",
    "                mode='lines', \n",
    "                name='Trend Line')\n",
    "\n",
    "# Update layout for better visualization\n",
    "fig.update_layout(\n",
    "    xaxis=dict(tickmode='linear'),  # Show all years on x-axis\n",
    "    yaxis=dict(tickformat=',.0f'),  # Format y-axis ticks as comma-separated integers\n",
    "    legend=dict(orientation='h', yanchor='bottom', y=1.02, xanchor='right', x=1),  # Position legend below the plot\n",
    "    title_font=dict(size=24),  # Increase title font size\n",
    "    font=dict(size=14),  # Increase general font size\n",
    "    title_x=0.5,  # Center the title\n",
    ")\n",
    "\n",
    "# Add source and visualization credit with adjusted vertical position\n",
    "fig.add_annotation(text=\"Source: American Enterprise Institute | Visualization: https://medium.com/@ranggaakhli\", xref=\"paper\", yref=\"paper\", x=0.5, y=-0.3, showarrow=False)\n",
    "\n",
    "fig.show()\n"
   ]
  },
  {
   "cell_type": "code",
   "execution_count": 3,
   "metadata": {},
   "outputs": [
    {
     "data": {
      "application/vnd.plotly.v1+json": {
       "config": {
        "plotlyServerURL": "https://plot.ly"
       },
       "data": [
        {
         "domain": {
          "x": [
           0,
           1
          ],
          "y": [
           0,
           1
          ]
         },
         "hole": 0.4,
         "hovertemplate": "Sector=%{label}<br>Quantity in Millions=%{value}<extra></extra>",
         "labels": [
          "Agriculture",
          "Energy",
          "Entertainment",
          "Finance",
          "Metals",
          "Real estate",
          "Technology",
          "Transport",
          "Other"
         ],
         "legendgroup": "",
         "name": "",
         "showlegend": true,
         "type": "pie",
         "values": [
          84890,
          451870,
          59130,
          86270,
          181040,
          114670,
          76420,
          171400,
          206650
         ]
        }
       ],
       "layout": {
        "annotations": [
         {
          "showarrow": false,
          "text": "Source: American Enterprise Institute | Visualization: https://medium.com/@ranggaakhli",
          "x": 0.5,
          "xref": "paper",
          "y": -0.3,
          "yref": "paper"
         }
        ],
        "legend": {
         "tracegroupgap": 0
        },
        "template": {
         "data": {
          "bar": [
           {
            "error_x": {
             "color": "#2a3f5f"
            },
            "error_y": {
             "color": "#2a3f5f"
            },
            "marker": {
             "line": {
              "color": "#E5ECF6",
              "width": 0.5
             },
             "pattern": {
              "fillmode": "overlay",
              "size": 10,
              "solidity": 0.2
             }
            },
            "type": "bar"
           }
          ],
          "barpolar": [
           {
            "marker": {
             "line": {
              "color": "#E5ECF6",
              "width": 0.5
             },
             "pattern": {
              "fillmode": "overlay",
              "size": 10,
              "solidity": 0.2
             }
            },
            "type": "barpolar"
           }
          ],
          "carpet": [
           {
            "aaxis": {
             "endlinecolor": "#2a3f5f",
             "gridcolor": "white",
             "linecolor": "white",
             "minorgridcolor": "white",
             "startlinecolor": "#2a3f5f"
            },
            "baxis": {
             "endlinecolor": "#2a3f5f",
             "gridcolor": "white",
             "linecolor": "white",
             "minorgridcolor": "white",
             "startlinecolor": "#2a3f5f"
            },
            "type": "carpet"
           }
          ],
          "choropleth": [
           {
            "colorbar": {
             "outlinewidth": 0,
             "ticks": ""
            },
            "type": "choropleth"
           }
          ],
          "contour": [
           {
            "colorbar": {
             "outlinewidth": 0,
             "ticks": ""
            },
            "colorscale": [
             [
              0,
              "#0d0887"
             ],
             [
              0.1111111111111111,
              "#46039f"
             ],
             [
              0.2222222222222222,
              "#7201a8"
             ],
             [
              0.3333333333333333,
              "#9c179e"
             ],
             [
              0.4444444444444444,
              "#bd3786"
             ],
             [
              0.5555555555555556,
              "#d8576b"
             ],
             [
              0.6666666666666666,
              "#ed7953"
             ],
             [
              0.7777777777777778,
              "#fb9f3a"
             ],
             [
              0.8888888888888888,
              "#fdca26"
             ],
             [
              1,
              "#f0f921"
             ]
            ],
            "type": "contour"
           }
          ],
          "contourcarpet": [
           {
            "colorbar": {
             "outlinewidth": 0,
             "ticks": ""
            },
            "type": "contourcarpet"
           }
          ],
          "heatmap": [
           {
            "colorbar": {
             "outlinewidth": 0,
             "ticks": ""
            },
            "colorscale": [
             [
              0,
              "#0d0887"
             ],
             [
              0.1111111111111111,
              "#46039f"
             ],
             [
              0.2222222222222222,
              "#7201a8"
             ],
             [
              0.3333333333333333,
              "#9c179e"
             ],
             [
              0.4444444444444444,
              "#bd3786"
             ],
             [
              0.5555555555555556,
              "#d8576b"
             ],
             [
              0.6666666666666666,
              "#ed7953"
             ],
             [
              0.7777777777777778,
              "#fb9f3a"
             ],
             [
              0.8888888888888888,
              "#fdca26"
             ],
             [
              1,
              "#f0f921"
             ]
            ],
            "type": "heatmap"
           }
          ],
          "heatmapgl": [
           {
            "colorbar": {
             "outlinewidth": 0,
             "ticks": ""
            },
            "colorscale": [
             [
              0,
              "#0d0887"
             ],
             [
              0.1111111111111111,
              "#46039f"
             ],
             [
              0.2222222222222222,
              "#7201a8"
             ],
             [
              0.3333333333333333,
              "#9c179e"
             ],
             [
              0.4444444444444444,
              "#bd3786"
             ],
             [
              0.5555555555555556,
              "#d8576b"
             ],
             [
              0.6666666666666666,
              "#ed7953"
             ],
             [
              0.7777777777777778,
              "#fb9f3a"
             ],
             [
              0.8888888888888888,
              "#fdca26"
             ],
             [
              1,
              "#f0f921"
             ]
            ],
            "type": "heatmapgl"
           }
          ],
          "histogram": [
           {
            "marker": {
             "pattern": {
              "fillmode": "overlay",
              "size": 10,
              "solidity": 0.2
             }
            },
            "type": "histogram"
           }
          ],
          "histogram2d": [
           {
            "colorbar": {
             "outlinewidth": 0,
             "ticks": ""
            },
            "colorscale": [
             [
              0,
              "#0d0887"
             ],
             [
              0.1111111111111111,
              "#46039f"
             ],
             [
              0.2222222222222222,
              "#7201a8"
             ],
             [
              0.3333333333333333,
              "#9c179e"
             ],
             [
              0.4444444444444444,
              "#bd3786"
             ],
             [
              0.5555555555555556,
              "#d8576b"
             ],
             [
              0.6666666666666666,
              "#ed7953"
             ],
             [
              0.7777777777777778,
              "#fb9f3a"
             ],
             [
              0.8888888888888888,
              "#fdca26"
             ],
             [
              1,
              "#f0f921"
             ]
            ],
            "type": "histogram2d"
           }
          ],
          "histogram2dcontour": [
           {
            "colorbar": {
             "outlinewidth": 0,
             "ticks": ""
            },
            "colorscale": [
             [
              0,
              "#0d0887"
             ],
             [
              0.1111111111111111,
              "#46039f"
             ],
             [
              0.2222222222222222,
              "#7201a8"
             ],
             [
              0.3333333333333333,
              "#9c179e"
             ],
             [
              0.4444444444444444,
              "#bd3786"
             ],
             [
              0.5555555555555556,
              "#d8576b"
             ],
             [
              0.6666666666666666,
              "#ed7953"
             ],
             [
              0.7777777777777778,
              "#fb9f3a"
             ],
             [
              0.8888888888888888,
              "#fdca26"
             ],
             [
              1,
              "#f0f921"
             ]
            ],
            "type": "histogram2dcontour"
           }
          ],
          "mesh3d": [
           {
            "colorbar": {
             "outlinewidth": 0,
             "ticks": ""
            },
            "type": "mesh3d"
           }
          ],
          "parcoords": [
           {
            "line": {
             "colorbar": {
              "outlinewidth": 0,
              "ticks": ""
             }
            },
            "type": "parcoords"
           }
          ],
          "pie": [
           {
            "automargin": true,
            "type": "pie"
           }
          ],
          "scatter": [
           {
            "fillpattern": {
             "fillmode": "overlay",
             "size": 10,
             "solidity": 0.2
            },
            "type": "scatter"
           }
          ],
          "scatter3d": [
           {
            "line": {
             "colorbar": {
              "outlinewidth": 0,
              "ticks": ""
             }
            },
            "marker": {
             "colorbar": {
              "outlinewidth": 0,
              "ticks": ""
             }
            },
            "type": "scatter3d"
           }
          ],
          "scattercarpet": [
           {
            "marker": {
             "colorbar": {
              "outlinewidth": 0,
              "ticks": ""
             }
            },
            "type": "scattercarpet"
           }
          ],
          "scattergeo": [
           {
            "marker": {
             "colorbar": {
              "outlinewidth": 0,
              "ticks": ""
             }
            },
            "type": "scattergeo"
           }
          ],
          "scattergl": [
           {
            "marker": {
             "colorbar": {
              "outlinewidth": 0,
              "ticks": ""
             }
            },
            "type": "scattergl"
           }
          ],
          "scattermapbox": [
           {
            "marker": {
             "colorbar": {
              "outlinewidth": 0,
              "ticks": ""
             }
            },
            "type": "scattermapbox"
           }
          ],
          "scatterpolar": [
           {
            "marker": {
             "colorbar": {
              "outlinewidth": 0,
              "ticks": ""
             }
            },
            "type": "scatterpolar"
           }
          ],
          "scatterpolargl": [
           {
            "marker": {
             "colorbar": {
              "outlinewidth": 0,
              "ticks": ""
             }
            },
            "type": "scatterpolargl"
           }
          ],
          "scatterternary": [
           {
            "marker": {
             "colorbar": {
              "outlinewidth": 0,
              "ticks": ""
             }
            },
            "type": "scatterternary"
           }
          ],
          "surface": [
           {
            "colorbar": {
             "outlinewidth": 0,
             "ticks": ""
            },
            "colorscale": [
             [
              0,
              "#0d0887"
             ],
             [
              0.1111111111111111,
              "#46039f"
             ],
             [
              0.2222222222222222,
              "#7201a8"
             ],
             [
              0.3333333333333333,
              "#9c179e"
             ],
             [
              0.4444444444444444,
              "#bd3786"
             ],
             [
              0.5555555555555556,
              "#d8576b"
             ],
             [
              0.6666666666666666,
              "#ed7953"
             ],
             [
              0.7777777777777778,
              "#fb9f3a"
             ],
             [
              0.8888888888888888,
              "#fdca26"
             ],
             [
              1,
              "#f0f921"
             ]
            ],
            "type": "surface"
           }
          ],
          "table": [
           {
            "cells": {
             "fill": {
              "color": "#EBF0F8"
             },
             "line": {
              "color": "white"
             }
            },
            "header": {
             "fill": {
              "color": "#C8D4E3"
             },
             "line": {
              "color": "white"
             }
            },
            "type": "table"
           }
          ]
         },
         "layout": {
          "annotationdefaults": {
           "arrowcolor": "#2a3f5f",
           "arrowhead": 0,
           "arrowwidth": 1
          },
          "autotypenumbers": "strict",
          "coloraxis": {
           "colorbar": {
            "outlinewidth": 0,
            "ticks": ""
           }
          },
          "colorscale": {
           "diverging": [
            [
             0,
             "#8e0152"
            ],
            [
             0.1,
             "#c51b7d"
            ],
            [
             0.2,
             "#de77ae"
            ],
            [
             0.3,
             "#f1b6da"
            ],
            [
             0.4,
             "#fde0ef"
            ],
            [
             0.5,
             "#f7f7f7"
            ],
            [
             0.6,
             "#e6f5d0"
            ],
            [
             0.7,
             "#b8e186"
            ],
            [
             0.8,
             "#7fbc41"
            ],
            [
             0.9,
             "#4d9221"
            ],
            [
             1,
             "#276419"
            ]
           ],
           "sequential": [
            [
             0,
             "#0d0887"
            ],
            [
             0.1111111111111111,
             "#46039f"
            ],
            [
             0.2222222222222222,
             "#7201a8"
            ],
            [
             0.3333333333333333,
             "#9c179e"
            ],
            [
             0.4444444444444444,
             "#bd3786"
            ],
            [
             0.5555555555555556,
             "#d8576b"
            ],
            [
             0.6666666666666666,
             "#ed7953"
            ],
            [
             0.7777777777777778,
             "#fb9f3a"
            ],
            [
             0.8888888888888888,
             "#fdca26"
            ],
            [
             1,
             "#f0f921"
            ]
           ],
           "sequentialminus": [
            [
             0,
             "#0d0887"
            ],
            [
             0.1111111111111111,
             "#46039f"
            ],
            [
             0.2222222222222222,
             "#7201a8"
            ],
            [
             0.3333333333333333,
             "#9c179e"
            ],
            [
             0.4444444444444444,
             "#bd3786"
            ],
            [
             0.5555555555555556,
             "#d8576b"
            ],
            [
             0.6666666666666666,
             "#ed7953"
            ],
            [
             0.7777777777777778,
             "#fb9f3a"
            ],
            [
             0.8888888888888888,
             "#fdca26"
            ],
            [
             1,
             "#f0f921"
            ]
           ]
          },
          "colorway": [
           "#636efa",
           "#EF553B",
           "#00cc96",
           "#ab63fa",
           "#FFA15A",
           "#19d3f3",
           "#FF6692",
           "#B6E880",
           "#FF97FF",
           "#FECB52"
          ],
          "font": {
           "color": "#2a3f5f"
          },
          "geo": {
           "bgcolor": "white",
           "lakecolor": "white",
           "landcolor": "#E5ECF6",
           "showlakes": true,
           "showland": true,
           "subunitcolor": "white"
          },
          "hoverlabel": {
           "align": "left"
          },
          "hovermode": "closest",
          "mapbox": {
           "style": "light"
          },
          "paper_bgcolor": "white",
          "plot_bgcolor": "#E5ECF6",
          "polar": {
           "angularaxis": {
            "gridcolor": "white",
            "linecolor": "white",
            "ticks": ""
           },
           "bgcolor": "#E5ECF6",
           "radialaxis": {
            "gridcolor": "white",
            "linecolor": "white",
            "ticks": ""
           }
          },
          "scene": {
           "xaxis": {
            "backgroundcolor": "#E5ECF6",
            "gridcolor": "white",
            "gridwidth": 2,
            "linecolor": "white",
            "showbackground": true,
            "ticks": "",
            "zerolinecolor": "white"
           },
           "yaxis": {
            "backgroundcolor": "#E5ECF6",
            "gridcolor": "white",
            "gridwidth": 2,
            "linecolor": "white",
            "showbackground": true,
            "ticks": "",
            "zerolinecolor": "white"
           },
           "zaxis": {
            "backgroundcolor": "#E5ECF6",
            "gridcolor": "white",
            "gridwidth": 2,
            "linecolor": "white",
            "showbackground": true,
            "ticks": "",
            "zerolinecolor": "white"
           }
          },
          "shapedefaults": {
           "line": {
            "color": "#2a3f5f"
           }
          },
          "ternary": {
           "aaxis": {
            "gridcolor": "white",
            "linecolor": "white",
            "ticks": ""
           },
           "baxis": {
            "gridcolor": "white",
            "linecolor": "white",
            "ticks": ""
           },
           "bgcolor": "#E5ECF6",
           "caxis": {
            "gridcolor": "white",
            "linecolor": "white",
            "ticks": ""
           }
          },
          "title": {
           "x": 0.05
          },
          "xaxis": {
           "automargin": true,
           "gridcolor": "white",
           "linecolor": "white",
           "ticks": "",
           "title": {
            "standoff": 15
           },
           "zerolinecolor": "white",
           "zerolinewidth": 2
          },
          "yaxis": {
           "automargin": true,
           "gridcolor": "white",
           "linecolor": "white",
           "ticks": "",
           "title": {
            "standoff": 15
           },
           "zerolinecolor": "white",
           "zerolinewidth": 2
          }
         }
        },
        "title": {
         "text": "Distribution of Investments by Sector"
        }
       }
      }
     },
     "metadata": {},
     "output_type": "display_data"
    }
   ],
   "source": [
    "# Group investment data by sector and sum the quantities\n",
    "investment_by_sector = investment_data.groupby('Sector')['Quantity in Millions'].sum().reset_index()\n",
    "\n",
    "# Sort sectors by investment amount and get the top 8\n",
    "top_8_sectors = investment_by_sector.nlargest(8, 'Quantity in Millions')['Sector'].tolist()\n",
    "\n",
    "# Replace sectors not in the top 8 with 'Other'\n",
    "investment_data['Sector'] = investment_data['Sector'].apply(lambda x: x if x in top_8_sectors else 'Other')\n",
    "\n",
    "# Group investment data by modified sector and sum the quantities\n",
    "investment_by_sector_modified = investment_data.groupby('Sector')['Quantity in Millions'].sum().reset_index()\n",
    "\n",
    "# Move 'Other' to the end\n",
    "investment_by_sector_modified = investment_by_sector_modified.sort_values(by='Sector', key=lambda x: x == 'Other')\n",
    "\n",
    "# Create donut chart to visualize the distribution of investments by sector\n",
    "fig = px.pie(investment_by_sector_modified, values='Quantity in Millions', names='Sector', \n",
    "             title='Distribution of Investments by Sector',\n",
    "             hole=0.4)  # Set hole parameter to create a donut chart\n",
    "\n",
    "# Add source and visualization credit\n",
    "fig.add_annotation(text=\"Source: American Enterprise Institute | Visualization: https://medium.com/@ranggaakhli\", xref=\"paper\", yref=\"paper\", x=0.5, y=-0.3, showarrow=False)\n",
    "\n",
    "fig.show()\n"
   ]
  },
  {
   "cell_type": "code",
   "execution_count": 4,
   "metadata": {},
   "outputs": [
    {
     "data": {
      "application/vnd.plotly.v1+json": {
       "config": {
        "plotlyServerURL": "https://plot.ly"
       },
       "data": [
        {
         "branchvalues": "total",
         "domain": {
          "x": [
           0,
           1
          ],
          "y": [
           0,
           1
          ]
         },
         "hovertemplate": "labels=%{label}<br>Quantity in Millions=%{value}<br>parent=%{parent}<br>id=%{id}<extra></extra>",
         "ids": [
          "Afghanistan",
          "Algeria",
          "Angola",
          "Antigua and Barbuda",
          "Argentina",
          "Australia",
          "Austria",
          "Azerbaijan",
          "Bahamas",
          "Bangladesh",
          "Belarus",
          "Belgium",
          "Bolivia",
          "Bosnia",
          "Botswana",
          "Brazil",
          "Britain",
          "Brunei",
          "Bulgaria",
          "Cambodia",
          "Cameroon",
          "Canada",
          "Chad",
          "Chile",
          "Colombia",
          "Congo",
          "Croatia",
          "Cuba",
          "Czech Republic",
          "Democratic Republic of the Congo",
          "Denmark",
          "Djibouti",
          "Ecuador",
          "Egypt",
          "Eritrea",
          "Ethiopia",
          "Finland",
          "France",
          "Gabon",
          "Georgia",
          "Germany",
          "Ghana",
          "Greece",
          "Guinea",
          "Guinea-Bissau",
          "Guyana",
          "Hungary",
          "India",
          "Indonesia",
          "Iran",
          "Iraq",
          "Ireland",
          "Israel",
          "Italy",
          "Ivory Coast",
          "Jamaica",
          "Japan",
          "Jordan",
          "Kazakhstan",
          "Kenya",
          "Kuwait",
          "Kyrgyzstan",
          "Laos",
          "Liberia",
          "Luxembourg",
          "Madagascar",
          "Malawi",
          "Malaysia",
          "Maldives",
          "Mali",
          "Malta",
          "Mauritius",
          "Mexico",
          "Mongolia",
          "Montenegro",
          "Morocco",
          "Mozambique",
          "Myanmar",
          "Namibia",
          "Nepal",
          "Netherlands",
          "New Zealand",
          "Nicaragua",
          "Niger",
          "Nigeria",
          "North Korea",
          "Norway",
          "Oman",
          "Pakistan",
          "Panama",
          "Papua New Guinea",
          "Peru",
          "Philippines",
          "Poland",
          "Portugal",
          "Qatar",
          "Russian Federation",
          "Rwanda",
          "Samoa",
          "Sao Tome",
          "Saudi Arabia",
          "Serbia",
          "Sierra Leone",
          "Singapore",
          "Slovakia",
          "Slovenia",
          "Solomon Islands",
          "South Africa",
          "South Korea",
          "Spain",
          "Sri Lanka",
          "Sudan",
          "Suriname",
          "Sweden",
          "Switzerland",
          "Syria",
          "Taiwan",
          "Tajikistan",
          "Tanzania",
          "Thailand",
          "Togo",
          "Trinidad-Tobago",
          "Turkey",
          "Turkmenistan",
          "UAE",
          "USA",
          "Uganda",
          "Ukraine",
          "Uzbekistan",
          "Venezuela",
          "Vietnam",
          "Yemen",
          "Zambia",
          "Zimbabwe"
         ],
         "labels": [
          "Afghanistan",
          "Algeria",
          "Angola",
          "Antigua and Barbuda",
          "Argentina",
          "Australia",
          "Austria",
          "Azerbaijan",
          "Bahamas",
          "Bangladesh",
          "Belarus",
          "Belgium",
          "Bolivia",
          "Bosnia",
          "Botswana",
          "Brazil",
          "Britain",
          "Brunei",
          "Bulgaria",
          "Cambodia",
          "Cameroon",
          "Canada",
          "Chad",
          "Chile",
          "Colombia",
          "Congo",
          "Croatia",
          "Cuba",
          "Czech Republic",
          "Democratic Republic of the Congo",
          "Denmark",
          "Djibouti",
          "Ecuador",
          "Egypt",
          "Eritrea",
          "Ethiopia",
          "Finland",
          "France",
          "Gabon",
          "Georgia",
          "Germany",
          "Ghana",
          "Greece",
          "Guinea",
          "Guinea-Bissau",
          "Guyana",
          "Hungary",
          "India",
          "Indonesia",
          "Iran",
          "Iraq",
          "Ireland",
          "Israel",
          "Italy",
          "Ivory Coast",
          "Jamaica",
          "Japan",
          "Jordan",
          "Kazakhstan",
          "Kenya",
          "Kuwait",
          "Kyrgyzstan",
          "Laos",
          "Liberia",
          "Luxembourg",
          "Madagascar",
          "Malawi",
          "Malaysia",
          "Maldives",
          "Mali",
          "Malta",
          "Mauritius",
          "Mexico",
          "Mongolia",
          "Montenegro",
          "Morocco",
          "Mozambique",
          "Myanmar",
          "Namibia",
          "Nepal",
          "Netherlands",
          "New Zealand",
          "Nicaragua",
          "Niger",
          "Nigeria",
          "North Korea",
          "Norway",
          "Oman",
          "Pakistan",
          "Panama",
          "Papua New Guinea",
          "Peru",
          "Philippines",
          "Poland",
          "Portugal",
          "Qatar",
          "Russian Federation",
          "Rwanda",
          "Samoa",
          "Sao Tome",
          "Saudi Arabia",
          "Serbia",
          "Sierra Leone",
          "Singapore",
          "Slovakia",
          "Slovenia",
          "Solomon Islands",
          "South Africa",
          "South Korea",
          "Spain",
          "Sri Lanka",
          "Sudan",
          "Suriname",
          "Sweden",
          "Switzerland",
          "Syria",
          "Taiwan",
          "Tajikistan",
          "Tanzania",
          "Thailand",
          "Togo",
          "Trinidad-Tobago",
          "Turkey",
          "Turkmenistan",
          "UAE",
          "USA",
          "Uganda",
          "Ukraine",
          "Uzbekistan",
          "Venezuela",
          "Vietnam",
          "Yemen",
          "Zambia",
          "Zimbabwe"
         ],
         "name": "",
         "parents": [
          "",
          "",
          "",
          "",
          "",
          "",
          "",
          "",
          "",
          "",
          "",
          "",
          "",
          "",
          "",
          "",
          "",
          "",
          "",
          "",
          "",
          "",
          "",
          "",
          "",
          "",
          "",
          "",
          "",
          "",
          "",
          "",
          "",
          "",
          "",
          "",
          "",
          "",
          "",
          "",
          "",
          "",
          "",
          "",
          "",
          "",
          "",
          "",
          "",
          "",
          "",
          "",
          "",
          "",
          "",
          "",
          "",
          "",
          "",
          "",
          "",
          "",
          "",
          "",
          "",
          "",
          "",
          "",
          "",
          "",
          "",
          "",
          "",
          "",
          "",
          "",
          "",
          "",
          "",
          "",
          "",
          "",
          "",
          "",
          "",
          "",
          "",
          "",
          "",
          "",
          "",
          "",
          "",
          "",
          "",
          "",
          "",
          "",
          "",
          "",
          "",
          "",
          "",
          "",
          "",
          "",
          "",
          "",
          "",
          "",
          "",
          "",
          "",
          "",
          "",
          "",
          "",
          "",
          "",
          "",
          "",
          "",
          "",
          "",
          "",
          "",
          "",
          "",
          "",
          "",
          "",
          "",
          "",
          ""
         ],
         "type": "treemap",
         "values": [
          3070,
          430,
          5150,
          740,
          12770,
          105900,
          1110,
          270,
          350,
          7070,
          400,
          4970,
          1780,
          610,
          1880,
          70980,
          100860,
          3440,
          120,
          13240,
          2580,
          57880,
          1630,
          17950,
          6990,
          590,
          220,
          500,
          860,
          18460,
          730,
          700,
          6370,
          6400,
          950,
          2010,
          16630,
          34770,
          400,
          370,
          52110,
          2570,
          9460,
          8260,
          170,
          5280,
          8450,
          17140,
          44360,
          4720,
          14130,
          8120,
          12030,
          24190,
          310,
          1170,
          12780,
          1960,
          20220,
          1320,
          650,
          860,
          15730,
          520,
          4680,
          150,
          100,
          24000,
          110,
          260,
          440,
          740,
          4880,
          4660,
          100,
          970,
          4920,
          6870,
          3510,
          1120,
          21570,
          3690,
          300,
          5570,
          7270,
          2000,
          7970,
          2200,
          16120,
          310,
          2060,
          28480,
          6830,
          1090,
          9480,
          1050,
          34250,
          120,
          110,
          270,
          13930,
          4780,
          4600,
          44040,
          130,
          1390,
          200,
          11440,
          13240,
          10970,
          4300,
          260,
          360,
          16940,
          61800,
          3760,
          1220,
          1000,
          1470,
          7450,
          190,
          1170,
          6190,
          1790,
          8160,
          195340,
          3320,
          180,
          2510,
          4570,
          10400,
          470,
          3770,
          4110
         ]
        }
       ],
       "layout": {
        "annotations": [
         {
          "showarrow": false,
          "text": "Source: American Enterprise Institute | Visualization: https://medium.com/@ranggaakhli",
          "x": 0.5,
          "xref": "paper",
          "y": -0.3,
          "yref": "paper"
         }
        ],
        "legend": {
         "tracegroupgap": 0
        },
        "template": {
         "data": {
          "bar": [
           {
            "error_x": {
             "color": "#2a3f5f"
            },
            "error_y": {
             "color": "#2a3f5f"
            },
            "marker": {
             "line": {
              "color": "#E5ECF6",
              "width": 0.5
             },
             "pattern": {
              "fillmode": "overlay",
              "size": 10,
              "solidity": 0.2
             }
            },
            "type": "bar"
           }
          ],
          "barpolar": [
           {
            "marker": {
             "line": {
              "color": "#E5ECF6",
              "width": 0.5
             },
             "pattern": {
              "fillmode": "overlay",
              "size": 10,
              "solidity": 0.2
             }
            },
            "type": "barpolar"
           }
          ],
          "carpet": [
           {
            "aaxis": {
             "endlinecolor": "#2a3f5f",
             "gridcolor": "white",
             "linecolor": "white",
             "minorgridcolor": "white",
             "startlinecolor": "#2a3f5f"
            },
            "baxis": {
             "endlinecolor": "#2a3f5f",
             "gridcolor": "white",
             "linecolor": "white",
             "minorgridcolor": "white",
             "startlinecolor": "#2a3f5f"
            },
            "type": "carpet"
           }
          ],
          "choropleth": [
           {
            "colorbar": {
             "outlinewidth": 0,
             "ticks": ""
            },
            "type": "choropleth"
           }
          ],
          "contour": [
           {
            "colorbar": {
             "outlinewidth": 0,
             "ticks": ""
            },
            "colorscale": [
             [
              0,
              "#0d0887"
             ],
             [
              0.1111111111111111,
              "#46039f"
             ],
             [
              0.2222222222222222,
              "#7201a8"
             ],
             [
              0.3333333333333333,
              "#9c179e"
             ],
             [
              0.4444444444444444,
              "#bd3786"
             ],
             [
              0.5555555555555556,
              "#d8576b"
             ],
             [
              0.6666666666666666,
              "#ed7953"
             ],
             [
              0.7777777777777778,
              "#fb9f3a"
             ],
             [
              0.8888888888888888,
              "#fdca26"
             ],
             [
              1,
              "#f0f921"
             ]
            ],
            "type": "contour"
           }
          ],
          "contourcarpet": [
           {
            "colorbar": {
             "outlinewidth": 0,
             "ticks": ""
            },
            "type": "contourcarpet"
           }
          ],
          "heatmap": [
           {
            "colorbar": {
             "outlinewidth": 0,
             "ticks": ""
            },
            "colorscale": [
             [
              0,
              "#0d0887"
             ],
             [
              0.1111111111111111,
              "#46039f"
             ],
             [
              0.2222222222222222,
              "#7201a8"
             ],
             [
              0.3333333333333333,
              "#9c179e"
             ],
             [
              0.4444444444444444,
              "#bd3786"
             ],
             [
              0.5555555555555556,
              "#d8576b"
             ],
             [
              0.6666666666666666,
              "#ed7953"
             ],
             [
              0.7777777777777778,
              "#fb9f3a"
             ],
             [
              0.8888888888888888,
              "#fdca26"
             ],
             [
              1,
              "#f0f921"
             ]
            ],
            "type": "heatmap"
           }
          ],
          "heatmapgl": [
           {
            "colorbar": {
             "outlinewidth": 0,
             "ticks": ""
            },
            "colorscale": [
             [
              0,
              "#0d0887"
             ],
             [
              0.1111111111111111,
              "#46039f"
             ],
             [
              0.2222222222222222,
              "#7201a8"
             ],
             [
              0.3333333333333333,
              "#9c179e"
             ],
             [
              0.4444444444444444,
              "#bd3786"
             ],
             [
              0.5555555555555556,
              "#d8576b"
             ],
             [
              0.6666666666666666,
              "#ed7953"
             ],
             [
              0.7777777777777778,
              "#fb9f3a"
             ],
             [
              0.8888888888888888,
              "#fdca26"
             ],
             [
              1,
              "#f0f921"
             ]
            ],
            "type": "heatmapgl"
           }
          ],
          "histogram": [
           {
            "marker": {
             "pattern": {
              "fillmode": "overlay",
              "size": 10,
              "solidity": 0.2
             }
            },
            "type": "histogram"
           }
          ],
          "histogram2d": [
           {
            "colorbar": {
             "outlinewidth": 0,
             "ticks": ""
            },
            "colorscale": [
             [
              0,
              "#0d0887"
             ],
             [
              0.1111111111111111,
              "#46039f"
             ],
             [
              0.2222222222222222,
              "#7201a8"
             ],
             [
              0.3333333333333333,
              "#9c179e"
             ],
             [
              0.4444444444444444,
              "#bd3786"
             ],
             [
              0.5555555555555556,
              "#d8576b"
             ],
             [
              0.6666666666666666,
              "#ed7953"
             ],
             [
              0.7777777777777778,
              "#fb9f3a"
             ],
             [
              0.8888888888888888,
              "#fdca26"
             ],
             [
              1,
              "#f0f921"
             ]
            ],
            "type": "histogram2d"
           }
          ],
          "histogram2dcontour": [
           {
            "colorbar": {
             "outlinewidth": 0,
             "ticks": ""
            },
            "colorscale": [
             [
              0,
              "#0d0887"
             ],
             [
              0.1111111111111111,
              "#46039f"
             ],
             [
              0.2222222222222222,
              "#7201a8"
             ],
             [
              0.3333333333333333,
              "#9c179e"
             ],
             [
              0.4444444444444444,
              "#bd3786"
             ],
             [
              0.5555555555555556,
              "#d8576b"
             ],
             [
              0.6666666666666666,
              "#ed7953"
             ],
             [
              0.7777777777777778,
              "#fb9f3a"
             ],
             [
              0.8888888888888888,
              "#fdca26"
             ],
             [
              1,
              "#f0f921"
             ]
            ],
            "type": "histogram2dcontour"
           }
          ],
          "mesh3d": [
           {
            "colorbar": {
             "outlinewidth": 0,
             "ticks": ""
            },
            "type": "mesh3d"
           }
          ],
          "parcoords": [
           {
            "line": {
             "colorbar": {
              "outlinewidth": 0,
              "ticks": ""
             }
            },
            "type": "parcoords"
           }
          ],
          "pie": [
           {
            "automargin": true,
            "type": "pie"
           }
          ],
          "scatter": [
           {
            "fillpattern": {
             "fillmode": "overlay",
             "size": 10,
             "solidity": 0.2
            },
            "type": "scatter"
           }
          ],
          "scatter3d": [
           {
            "line": {
             "colorbar": {
              "outlinewidth": 0,
              "ticks": ""
             }
            },
            "marker": {
             "colorbar": {
              "outlinewidth": 0,
              "ticks": ""
             }
            },
            "type": "scatter3d"
           }
          ],
          "scattercarpet": [
           {
            "marker": {
             "colorbar": {
              "outlinewidth": 0,
              "ticks": ""
             }
            },
            "type": "scattercarpet"
           }
          ],
          "scattergeo": [
           {
            "marker": {
             "colorbar": {
              "outlinewidth": 0,
              "ticks": ""
             }
            },
            "type": "scattergeo"
           }
          ],
          "scattergl": [
           {
            "marker": {
             "colorbar": {
              "outlinewidth": 0,
              "ticks": ""
             }
            },
            "type": "scattergl"
           }
          ],
          "scattermapbox": [
           {
            "marker": {
             "colorbar": {
              "outlinewidth": 0,
              "ticks": ""
             }
            },
            "type": "scattermapbox"
           }
          ],
          "scatterpolar": [
           {
            "marker": {
             "colorbar": {
              "outlinewidth": 0,
              "ticks": ""
             }
            },
            "type": "scatterpolar"
           }
          ],
          "scatterpolargl": [
           {
            "marker": {
             "colorbar": {
              "outlinewidth": 0,
              "ticks": ""
             }
            },
            "type": "scatterpolargl"
           }
          ],
          "scatterternary": [
           {
            "marker": {
             "colorbar": {
              "outlinewidth": 0,
              "ticks": ""
             }
            },
            "type": "scatterternary"
           }
          ],
          "surface": [
           {
            "colorbar": {
             "outlinewidth": 0,
             "ticks": ""
            },
            "colorscale": [
             [
              0,
              "#0d0887"
             ],
             [
              0.1111111111111111,
              "#46039f"
             ],
             [
              0.2222222222222222,
              "#7201a8"
             ],
             [
              0.3333333333333333,
              "#9c179e"
             ],
             [
              0.4444444444444444,
              "#bd3786"
             ],
             [
              0.5555555555555556,
              "#d8576b"
             ],
             [
              0.6666666666666666,
              "#ed7953"
             ],
             [
              0.7777777777777778,
              "#fb9f3a"
             ],
             [
              0.8888888888888888,
              "#fdca26"
             ],
             [
              1,
              "#f0f921"
             ]
            ],
            "type": "surface"
           }
          ],
          "table": [
           {
            "cells": {
             "fill": {
              "color": "#EBF0F8"
             },
             "line": {
              "color": "white"
             }
            },
            "header": {
             "fill": {
              "color": "#C8D4E3"
             },
             "line": {
              "color": "white"
             }
            },
            "type": "table"
           }
          ]
         },
         "layout": {
          "annotationdefaults": {
           "arrowcolor": "#2a3f5f",
           "arrowhead": 0,
           "arrowwidth": 1
          },
          "autotypenumbers": "strict",
          "coloraxis": {
           "colorbar": {
            "outlinewidth": 0,
            "ticks": ""
           }
          },
          "colorscale": {
           "diverging": [
            [
             0,
             "#8e0152"
            ],
            [
             0.1,
             "#c51b7d"
            ],
            [
             0.2,
             "#de77ae"
            ],
            [
             0.3,
             "#f1b6da"
            ],
            [
             0.4,
             "#fde0ef"
            ],
            [
             0.5,
             "#f7f7f7"
            ],
            [
             0.6,
             "#e6f5d0"
            ],
            [
             0.7,
             "#b8e186"
            ],
            [
             0.8,
             "#7fbc41"
            ],
            [
             0.9,
             "#4d9221"
            ],
            [
             1,
             "#276419"
            ]
           ],
           "sequential": [
            [
             0,
             "#0d0887"
            ],
            [
             0.1111111111111111,
             "#46039f"
            ],
            [
             0.2222222222222222,
             "#7201a8"
            ],
            [
             0.3333333333333333,
             "#9c179e"
            ],
            [
             0.4444444444444444,
             "#bd3786"
            ],
            [
             0.5555555555555556,
             "#d8576b"
            ],
            [
             0.6666666666666666,
             "#ed7953"
            ],
            [
             0.7777777777777778,
             "#fb9f3a"
            ],
            [
             0.8888888888888888,
             "#fdca26"
            ],
            [
             1,
             "#f0f921"
            ]
           ],
           "sequentialminus": [
            [
             0,
             "#0d0887"
            ],
            [
             0.1111111111111111,
             "#46039f"
            ],
            [
             0.2222222222222222,
             "#7201a8"
            ],
            [
             0.3333333333333333,
             "#9c179e"
            ],
            [
             0.4444444444444444,
             "#bd3786"
            ],
            [
             0.5555555555555556,
             "#d8576b"
            ],
            [
             0.6666666666666666,
             "#ed7953"
            ],
            [
             0.7777777777777778,
             "#fb9f3a"
            ],
            [
             0.8888888888888888,
             "#fdca26"
            ],
            [
             1,
             "#f0f921"
            ]
           ]
          },
          "colorway": [
           "#636efa",
           "#EF553B",
           "#00cc96",
           "#ab63fa",
           "#FFA15A",
           "#19d3f3",
           "#FF6692",
           "#B6E880",
           "#FF97FF",
           "#FECB52"
          ],
          "font": {
           "color": "#2a3f5f"
          },
          "geo": {
           "bgcolor": "white",
           "lakecolor": "white",
           "landcolor": "#E5ECF6",
           "showlakes": true,
           "showland": true,
           "subunitcolor": "white"
          },
          "hoverlabel": {
           "align": "left"
          },
          "hovermode": "closest",
          "mapbox": {
           "style": "light"
          },
          "paper_bgcolor": "white",
          "plot_bgcolor": "#E5ECF6",
          "polar": {
           "angularaxis": {
            "gridcolor": "white",
            "linecolor": "white",
            "ticks": ""
           },
           "bgcolor": "#E5ECF6",
           "radialaxis": {
            "gridcolor": "white",
            "linecolor": "white",
            "ticks": ""
           }
          },
          "scene": {
           "xaxis": {
            "backgroundcolor": "#E5ECF6",
            "gridcolor": "white",
            "gridwidth": 2,
            "linecolor": "white",
            "showbackground": true,
            "ticks": "",
            "zerolinecolor": "white"
           },
           "yaxis": {
            "backgroundcolor": "#E5ECF6",
            "gridcolor": "white",
            "gridwidth": 2,
            "linecolor": "white",
            "showbackground": true,
            "ticks": "",
            "zerolinecolor": "white"
           },
           "zaxis": {
            "backgroundcolor": "#E5ECF6",
            "gridcolor": "white",
            "gridwidth": 2,
            "linecolor": "white",
            "showbackground": true,
            "ticks": "",
            "zerolinecolor": "white"
           }
          },
          "shapedefaults": {
           "line": {
            "color": "#2a3f5f"
           }
          },
          "ternary": {
           "aaxis": {
            "gridcolor": "white",
            "linecolor": "white",
            "ticks": ""
           },
           "baxis": {
            "gridcolor": "white",
            "linecolor": "white",
            "ticks": ""
           },
           "bgcolor": "#E5ECF6",
           "caxis": {
            "gridcolor": "white",
            "linecolor": "white",
            "ticks": ""
           }
          },
          "title": {
           "x": 0.05
          },
          "xaxis": {
           "automargin": true,
           "gridcolor": "white",
           "linecolor": "white",
           "ticks": "",
           "title": {
            "standoff": 15
           },
           "zerolinecolor": "white",
           "zerolinewidth": 2
          },
          "yaxis": {
           "automargin": true,
           "gridcolor": "white",
           "linecolor": "white",
           "ticks": "",
           "title": {
            "standoff": 15
           },
           "zerolinecolor": "white",
           "zerolinewidth": 2
          }
         }
        },
        "title": {
         "text": "Composition of Investments by Country"
        }
       }
      }
     },
     "metadata": {},
     "output_type": "display_data"
    }
   ],
   "source": [
    "# Group investment data by country, sum the quantities\n",
    "investment_by_country = investment_data.groupby('Country')['Quantity in Millions'].sum().reset_index()\n",
    "\n",
    "# Create treemap to visualize the composition of investments by country\n",
    "fig = px.treemap(investment_by_country, \n",
    "                 path=['Country'], \n",
    "                 values='Quantity in Millions',\n",
    "                 title='Composition of Investments by Country')\n",
    "\n",
    "# Add source and visualization credit\n",
    "fig.add_annotation(text=\"Source: American Enterprise Institute | Visualization: https://medium.com/@ranggaakhli\", xref=\"paper\", yref=\"paper\", x=0.5, y=-0.3, showarrow=False)\n",
    "\n",
    "\n",
    "fig.show()\n"
   ]
  },
  {
   "cell_type": "code",
   "execution_count": 5,
   "metadata": {},
   "outputs": [
    {
     "data": {
      "application/vnd.plotly.v1+json": {
       "config": {
        "plotlyServerURL": "https://plot.ly"
       },
       "data": [
        {
         "branchvalues": "total",
         "domain": {
          "x": [
           0,
           1
          ],
          "y": [
           0,
           1
          ]
         },
         "hovertemplate": "labels=%{label}<br>Quantity in Millions=%{value}<br>parent=%{parent}<br>id=%{id}<extra></extra>",
         "ids": [
          "Metals/Copper/Afghanistan",
          "Energy/Oil/Afghanistan",
          "Energy/Oil/Algeria",
          "Energy/Oil/Angola",
          "Real estate/Property/Angola",
          "Energy/Alternative/Argentina",
          "Transport/Autos/Argentina",
          "Finance/Banking/Argentina",
          "Energy/Gas/Argentina",
          "Energy/Oil/Argentina",
          "Energy/Alternative/Australia",
          "Metals/Aluminum/Australia",
          "Transport/Aviation/Australia",
          "Finance/Banking/Australia",
          "Energy/Coal/Australia",
          "Real estate/Construction/Australia",
          "Metals/Copper/Australia",
          "Energy/Gas/Australia",
          "Energy/Hydro/Australia",
          "Finance/Investment/Australia",
          "Energy/Oil/Australia",
          "Real estate/Property/Australia",
          "Transport/Rail/Australia",
          "Transport/Shipping/Australia",
          "Metals/Steel/Australia",
          "Transport/Autos/Austria",
          "Transport/Aviation/Austria",
          "Finance/Investment/Austria",
          "Transport/Autos/Azerbaijan",
          "Energy/Alternative/Bangladesh",
          "Transport/Autos/Bangladesh",
          "Energy/Coal/Bangladesh",
          "Other/Industry/Bangladesh",
          "Finance/Investment/Bangladesh",
          "Metals/Steel/Bangladesh",
          "Other/Textiles/Bangladesh",
          "Transport/Autos/Belarus",
          "Finance/Banking/Belgium",
          "Energy/Oil/Belgium",
          "Real estate/Property/Belgium",
          "Energy/Alternative/Bosnia",
          "Metals/Aluminum/Bosnia",
          "Transport/Autos/Bosnia",
          "Metals/Copper/Botswana",
          "Energy/Alternative/Brazil",
          "Transport/Autos/Brazil",
          "Transport/Aviation/Brazil",
          "Finance/Banking/Brazil",
          "Real estate/Construction/Brazil",
          "Energy/Gas/Brazil",
          "Energy/Hydro/Brazil",
          "Finance/Investment/Brazil",
          "Energy/Oil/Brazil",
          "Real estate/Property/Brazil",
          "Transport/Shipping/Brazil",
          "Metals/Steel/Brazil",
          "Technology/Telecom/Brazil",
          "Energy/Alternative/Britain",
          "Transport/Autos/Britain",
          "Transport/Aviation/Britain",
          "Finance/Banking/Britain",
          "Other/Education/Britain",
          "Energy/Gas/Britain",
          "Other/Industry/Britain",
          "Finance/Investment/Britain",
          "Energy/Oil/Britain",
          "Real estate/Property/Britain",
          "Transport/Shipping/Britain",
          "Metals/Steel/Britain",
          "Technology/Telecom/Britain",
          "Other/Textiles/Britain",
          "Energy/Oil/Brunei",
          "Transport/Autos/Bulgaria",
          "Transport/Autos/Cambodia",
          "Transport/Aviation/Cambodia",
          "Finance/Banking/Cambodia",
          "Energy/Coal/Cambodia",
          "Real estate/Construction/Cambodia",
          "Energy/Hydro/Cambodia",
          "Real estate/Property/Cambodia",
          "Metals/Steel/Cambodia",
          "Transport/Autos/Cameroon",
          "Energy/Oil/Cameroon",
          "Metals/Steel/Cameroon",
          "Energy/Alternative/Canada",
          "Transport/Autos/Canada",
          "Real estate/Construction/Canada",
          "Metals/Copper/Canada",
          "Energy/Gas/Canada",
          "Finance/Investment/Canada",
          "Energy/Oil/Canada",
          "Real estate/Property/Canada",
          "Metals/Steel/Canada",
          "Technology/Telecom/Canada",
          "Other/Timber/Canada",
          "Energy/Oil/Chad",
          "Energy/Alternative/Chile",
          "Transport/Autos/Chile",
          "Energy/Hydro/Chile",
          "Metals/Steel/Chile",
          "Technology/Telecom/Chile",
          "Transport/Autos/Colombia",
          "Energy/Gas/Colombia",
          "Energy/Hydro/Colombia",
          "Energy/Oil/Colombia",
          "Transport/Rail/Colombia",
          "Real estate/Construction/Congo",
          "Metals/Copper/Congo",
          "Energy/Alternative/Croatia",
          "Finance/Investment/Czech Republic",
          "Real estate/Property/Czech Republic",
          "Metals/Copper/Democratic Republic of the Congo",
          "Energy/Hydro/Democratic Republic of the Congo",
          "Finance/Banking/Denmark",
          "Transport/Shipping/Djibouti",
          "Metals/Copper/Ecuador",
          "Energy/Oil/Ecuador",
          "Energy/Alternative/Egypt",
          "Metals/Aluminum/Egypt",
          "Real estate/Construction/Egypt",
          "Other/Industry/Egypt",
          "Real estate/Property/Egypt",
          "Metals/Steel/Egypt",
          "Real estate/Construction/Ethiopia",
          "Energy/Gas/Ethiopia",
          "Other/Industry/Ethiopia",
          "Real estate/Property/Ethiopia",
          "Other/Textiles/Ethiopia",
          "Transport/Autos/Finland",
          "Technology/Telecom/Finland",
          "Other/Timber/Finland",
          "Energy/Alternative/France",
          "Metals/Aluminum/France",
          "Transport/Autos/France",
          "Transport/Aviation/France",
          "Real estate/Property/France",
          "Transport/Shipping/France",
          "Technology/Telecom/France",
          "Other/Textiles/France",
          "Energy/Oil/Gabon",
          "Finance/Banking/Georgia",
          "Other/Industry/Georgia",
          "Real estate/Property/Georgia",
          "Energy/Alternative/Germany",
          "Metals/Aluminum/Germany",
          "Transport/Autos/Germany",
          "Transport/Aviation/Germany",
          "Finance/Banking/Germany",
          "Real estate/Construction/Germany",
          "Other/Industry/Germany",
          "Real estate/Property/Germany",
          "Metals/Steel/Germany",
          "Technology/Telecom/Germany",
          "Other/Textiles/Germany",
          "Energy/Alternative/Ghana",
          "Metals/Aluminum/Ghana",
          "Energy/Gas/Ghana",
          "Energy/Alternative/Greece",
          "Transport/Aviation/Greece",
          "Transport/Shipping/Greece",
          "Technology/Telecom/Greece",
          "Metals/Aluminum/Guinea",
          "Energy/Hydro/Guinea",
          "Real estate/Property/Guinea",
          "Metals/Steel/Guinea",
          "Energy/Alternative/Guinea-Bissau",
          "Metals/Aluminum/Guyana",
          "Energy/Oil/Guyana",
          "Energy/Alternative/Hungary",
          "Transport/Autos/Hungary",
          "Technology/Telecom/Hungary",
          "Energy/Alternative/India",
          "Transport/Autos/India",
          "Finance/Banking/India",
          "Real estate/Construction/India",
          "Real estate/Property/India",
          "Metals/Steel/India",
          "Technology/Telecom/India",
          "Other/Textiles/India",
          "Energy/Alternative/Indonesia",
          "Metals/Aluminum/Indonesia",
          "Transport/Autos/Indonesia",
          "Energy/Coal/Indonesia",
          "Real estate/Construction/Indonesia",
          "Metals/Copper/Indonesia",
          "Energy/Gas/Indonesia",
          "Energy/Hydro/Indonesia",
          "Other/Industry/Indonesia",
          "Energy/Oil/Indonesia",
          "Real estate/Property/Indonesia",
          "Transport/Rail/Indonesia",
          "Transport/Shipping/Indonesia",
          "Metals/Steel/Indonesia",
          "Technology/Telecom/Indonesia",
          "Other/Textiles/Indonesia",
          "Energy/Gas/Iran",
          "Energy/Oil/Iran",
          "Metals/Steel/Iran",
          "Energy/Gas/Iraq",
          "Energy/Oil/Iraq",
          "Energy/Alternative/Ireland",
          "Transport/Aviation/Ireland",
          "Technology/Telecom/Ireland",
          "Energy/Gas/Israel",
          "Other/Industry/Israel",
          "Transport/Shipping/Israel",
          "Technology/Telecom/Israel",
          "Energy/Alternative/Italy",
          "Transport/Autos/Italy",
          "Finance/Banking/Italy",
          "Real estate/Construction/Italy",
          "Energy/Oil/Italy",
          "Real estate/Property/Italy",
          "Transport/Shipping/Italy",
          "Technology/Telecom/Italy",
          "Other/Textiles/Italy",
          "Transport/Autos/Jamaica",
          "Energy/Alternative/Japan",
          "Transport/Autos/Japan",
          "Finance/Banking/Japan",
          "Other/Industry/Japan",
          "Energy/Oil/Japan",
          "Real estate/Property/Japan",
          "Technology/Telecom/Japan",
          "Other/Textiles/Japan",
          "Energy/Alternative/Jordan",
          "Other/Industry/Jordan",
          "Energy/Oil/Jordan",
          "Energy/Alternative/Kazakhstan",
          "Transport/Autos/Kazakhstan",
          "Finance/Banking/Kazakhstan",
          "Real estate/Construction/Kazakhstan",
          "Metals/Copper/Kazakhstan",
          "Energy/Gas/Kazakhstan",
          "Energy/Oil/Kazakhstan",
          "Other/Timber/Kazakhstan",
          "Transport/Autos/Kenya",
          "Real estate/Construction/Kenya",
          "Real estate/Property/Kenya",
          "Technology/Telecom/Kenya",
          "Energy/Oil/Kyrgyzstan",
          "Energy/Alternative/Laos",
          "Transport/Autos/Laos",
          "Real estate/Construction/Laos",
          "Energy/Hydro/Laos",
          "Energy/Oil/Laos",
          "Real estate/Property/Laos",
          "Transport/Rail/Laos",
          "Other/Timber/Laos",
          "Energy/Oil/Liberia",
          "Metals/Steel/Liberia",
          "Transport/Aviation/Luxembourg",
          "Finance/Banking/Luxembourg",
          "Energy/Oil/Madagascar",
          "Real estate/Property/Malawi",
          "Energy/Alternative/Malaysia",
          "Metals/Aluminum/Malaysia",
          "Transport/Autos/Malaysia",
          "Real estate/Construction/Malaysia",
          "Other/Education/Malaysia",
          "Finance/Investment/Malaysia",
          "Energy/Oil/Malaysia",
          "Real estate/Property/Malaysia",
          "Transport/Rail/Malaysia",
          "Transport/Shipping/Malaysia",
          "Metals/Steel/Malaysia",
          "Other/Textiles/Malaysia",
          "Other/Timber/Malaysia",
          "Transport/Aviation/Maldives",
          "Real estate/Property/Mauritius",
          "Energy/Alternative/Mexico",
          "Transport/Autos/Mexico",
          "Metals/Copper/Mexico",
          "Other/Industry/Mexico",
          "Energy/Oil/Mexico",
          "Energy/Coal/Mongolia",
          "Energy/Hydro/Mongolia",
          "Energy/Oil/Mongolia",
          "Metals/Steel/Mongolia",
          "Energy/Alternative/Montenegro",
          "Transport/Autos/Morocco",
          "Real estate/Construction/Mozambique",
          "Energy/Gas/Mozambique",
          "Real estate/Construction/Myanmar",
          "Metals/Copper/Myanmar",
          "Energy/Gas/Myanmar",
          "Energy/Oil/Myanmar",
          "Transport/Shipping/Myanmar",
          "Metals/Steel/Myanmar",
          "Real estate/Construction/Namibia",
          "Real estate/Construction/Nepal",
          "Energy/Hydro/Nepal",
          "Transport/Autos/Netherlands",
          "Finance/Investment/Netherlands",
          "Real estate/Property/Netherlands",
          "Transport/Shipping/Netherlands",
          "Technology/Telecom/New Zealand",
          "Technology/Telecom/Nicaragua",
          "Energy/Oil/Niger",
          "Energy/Oil/Nigeria",
          "Real estate/Property/Nigeria",
          "Transport/Rail/Nigeria",
          "Transport/Shipping/Nigeria",
          "Technology/Telecom/Nigeria",
          "Other/Textiles/Nigeria",
          "Transport/Rail/North Korea",
          "Energy/Alternative/Norway",
          "Transport/Aviation/Norway",
          "Energy/Oil/Norway",
          "Transport/Shipping/Norway",
          "Technology/Telecom/Norway",
          "Real estate/Construction/Oman",
          "Other/Industry/Oman",
          "Energy/Alternative/Pakistan",
          "Finance/Banking/Pakistan",
          "Energy/Coal/Pakistan",
          "Energy/Gas/Pakistan",
          "Energy/Hydro/Pakistan",
          "Other/Industry/Pakistan",
          "Transport/Shipping/Pakistan",
          "Technology/Telecom/Pakistan",
          "Other/Textiles/Pakistan",
          "Transport/Shipping/Panama",
          "Metals/Steel/Papua New Guinea",
          "Metals/Copper/Peru",
          "Energy/Hydro/Peru",
          "Transport/Shipping/Peru",
          "Metals/Steel/Peru",
          "Transport/Rail/Philippines",
          "Metals/Steel/Philippines",
          "Technology/Telecom/Philippines",
          "Energy/Alternative/Poland",
          "Transport/Autos/Poland",
          "Energy/Alternative/Portugal",
          "Finance/Banking/Portugal",
          "Real estate/Construction/Portugal",
          "Finance/Investment/Portugal",
          "Energy/Gas/Qatar",
          "Energy/Alternative/Russian Federation",
          "Metals/Aluminum/Russian Federation",
          "Transport/Autos/Russian Federation",
          "Finance/Banking/Russian Federation",
          "Energy/Coal/Russian Federation",
          "Real estate/Construction/Russian Federation",
          "Energy/Gas/Russian Federation",
          "Finance/Investment/Russian Federation",
          "Energy/Oil/Russian Federation",
          "Real estate/Property/Russian Federation",
          "Metals/Steel/Russian Federation",
          "Other/Timber/Russian Federation",
          "Real estate/Property/Rwanda",
          "Energy/Oil/Sao Tome",
          "Transport/Shipping/Sao Tome",
          "Energy/Alternative/Saudi Arabia",
          "Metals/Aluminum/Saudi Arabia",
          "Energy/Gas/Saudi Arabia",
          "Energy/Oil/Saudi Arabia",
          "Metals/Steel/Saudi Arabia",
          "Technology/Telecom/Saudi Arabia",
          "Energy/Alternative/Serbia",
          "Transport/Autos/Serbia",
          "Metals/Copper/Serbia",
          "Other/Industry/Serbia",
          "Metals/Steel/Serbia",
          "Metals/Steel/Sierra Leone",
          "Energy/Alternative/Singapore",
          "Transport/Autos/Singapore",
          "Transport/Aviation/Singapore",
          "Real estate/Construction/Singapore",
          "Other/Education/Singapore",
          "Finance/Investment/Singapore",
          "Energy/Oil/Singapore",
          "Real estate/Property/Singapore",
          "Transport/Shipping/Singapore",
          "Metals/Steel/Singapore",
          "Technology/Telecom/Singapore",
          "Energy/Alternative/South Africa",
          "Transport/Autos/South Africa",
          "Finance/Banking/South Africa",
          "Energy/Coal/South Africa",
          "Real estate/Construction/South Africa",
          "Metals/Copper/South Africa",
          "Finance/Investment/South Africa",
          "Real estate/Property/South Africa",
          "Metals/Steel/South Africa",
          "Transport/Autos/South Korea",
          "Finance/Banking/South Korea",
          "Energy/Oil/South Korea",
          "Real estate/Property/South Korea",
          "Technology/Telecom/South Korea",
          "Energy/Alternative/Spain",
          "Transport/Autos/Spain",
          "Transport/Aviation/Spain",
          "Real estate/Construction/Spain",
          "Energy/Gas/Spain",
          "Real estate/Property/Spain",
          "Transport/Shipping/Spain",
          "Technology/Telecom/Spain",
          "Transport/Autos/Sri Lanka",
          "Energy/Oil/Sri Lanka",
          "Real estate/Property/Sri Lanka",
          "Transport/Shipping/Sri Lanka",
          "Energy/Oil/Sudan",
          "Energy/Alternative/Sweden",
          "Transport/Autos/Sweden",
          "Other/Timber/Sweden",
          "Transport/Aviation/Switzerland",
          "Other/Industry/Switzerland",
          "Energy/Oil/Switzerland",
          "Metals/Steel/Switzerland",
          "Other/Textiles/Switzerland",
          "Energy/Oil/Syria",
          "Other/Education/Taiwan",
          "Real estate/Construction/Tajikistan",
          "Real estate/Construction/Tanzania",
          "Energy/Oil/Tanzania",
          "Energy/Alternative/Thailand",
          "Transport/Autos/Thailand",
          "Finance/Banking/Thailand",
          "Other/Industry/Thailand",
          "Real estate/Property/Thailand",
          "Transport/Rail/Thailand",
          "Metals/Steel/Thailand",
          "Technology/Telecom/Thailand",
          "Energy/Oil/Trinidad-Tobago",
          "Energy/Alternative/Turkey",
          "Transport/Autos/Turkey",
          "Finance/Banking/Turkey",
          "Energy/Coal/Turkey",
          "Technology/Telecom/Turkey",
          "Energy/Gas/Turkmenistan",
          "Energy/Alternative/UAE",
          "Transport/Autos/UAE",
          "Energy/Coal/UAE",
          "Other/Industry/UAE",
          "Energy/Oil/UAE",
          "Energy/Alternative/USA",
          "Metals/Aluminum/USA",
          "Transport/Autos/USA",
          "Transport/Aviation/USA",
          "Finance/Banking/USA",
          "Real estate/Construction/USA",
          "Metals/Copper/USA",
          "Other/Education/USA",
          "Energy/Gas/USA",
          "Other/Industry/USA",
          "Finance/Investment/USA",
          "Energy/Oil/USA",
          "Real estate/Property/USA",
          "Transport/Rail/USA",
          "Transport/Shipping/USA",
          "Metals/Steel/USA",
          "Technology/Telecom/USA",
          "Other/Textiles/USA",
          "Other/Timber/USA",
          "Real estate/Construction/Uganda",
          "Metals/Copper/Uganda",
          "Energy/Oil/Uganda",
          "Metals/Steel/Uganda",
          "Energy/Alternative/Ukraine",
          "Energy/Alternative/Uzbekistan",
          "Real estate/Construction/Uzbekistan",
          "Energy/Gas/Uzbekistan",
          "Other/Industry/Uzbekistan",
          "Transport/Autos/Venezuela",
          "Energy/Oil/Venezuela",
          "Energy/Alternative/Vietnam",
          "Transport/Autos/Vietnam",
          "Energy/Coal/Vietnam",
          "Metals/Steel/Vietnam",
          "Technology/Telecom/Vietnam",
          "Other/Textiles/Vietnam",
          "Energy/Oil/Yemen",
          "Transport/Autos/Zambia",
          "Real estate/Construction/Zambia",
          "Metals/Copper/Zambia",
          "Real estate/Property/Zambia",
          "Energy/Alternative/Zimbabwe",
          "Energy/Gas/Zimbabwe",
          "Other/Industry/Zimbabwe",
          "Metals/Steel/Zimbabwe",
          "Energy/Alternative",
          "Metals/Aluminum",
          "Transport/Autos",
          "Transport/Aviation",
          "Finance/Banking",
          "Energy/Coal",
          "Real estate/Construction",
          "Metals/Copper",
          "Other/Education",
          "Energy/Gas",
          "Energy/Hydro",
          "Other/Industry",
          "Finance/Investment",
          "Energy/Oil",
          "Real estate/Property",
          "Transport/Rail",
          "Transport/Shipping",
          "Metals/Steel",
          "Technology/Telecom",
          "Other/Textiles",
          "Other/Timber",
          "Energy",
          "Finance",
          "Metals",
          "Other",
          "Real estate",
          "Technology",
          "Transport"
         ],
         "labels": [
          "Afghanistan",
          "Afghanistan",
          "Algeria",
          "Angola",
          "Angola",
          "Argentina",
          "Argentina",
          "Argentina",
          "Argentina",
          "Argentina",
          "Australia",
          "Australia",
          "Australia",
          "Australia",
          "Australia",
          "Australia",
          "Australia",
          "Australia",
          "Australia",
          "Australia",
          "Australia",
          "Australia",
          "Australia",
          "Australia",
          "Australia",
          "Austria",
          "Austria",
          "Austria",
          "Azerbaijan",
          "Bangladesh",
          "Bangladesh",
          "Bangladesh",
          "Bangladesh",
          "Bangladesh",
          "Bangladesh",
          "Bangladesh",
          "Belarus",
          "Belgium",
          "Belgium",
          "Belgium",
          "Bosnia",
          "Bosnia",
          "Bosnia",
          "Botswana",
          "Brazil",
          "Brazil",
          "Brazil",
          "Brazil",
          "Brazil",
          "Brazil",
          "Brazil",
          "Brazil",
          "Brazil",
          "Brazil",
          "Brazil",
          "Brazil",
          "Brazil",
          "Britain",
          "Britain",
          "Britain",
          "Britain",
          "Britain",
          "Britain",
          "Britain",
          "Britain",
          "Britain",
          "Britain",
          "Britain",
          "Britain",
          "Britain",
          "Britain",
          "Brunei",
          "Bulgaria",
          "Cambodia",
          "Cambodia",
          "Cambodia",
          "Cambodia",
          "Cambodia",
          "Cambodia",
          "Cambodia",
          "Cambodia",
          "Cameroon",
          "Cameroon",
          "Cameroon",
          "Canada",
          "Canada",
          "Canada",
          "Canada",
          "Canada",
          "Canada",
          "Canada",
          "Canada",
          "Canada",
          "Canada",
          "Canada",
          "Chad",
          "Chile",
          "Chile",
          "Chile",
          "Chile",
          "Chile",
          "Colombia",
          "Colombia",
          "Colombia",
          "Colombia",
          "Colombia",
          "Congo",
          "Congo",
          "Croatia",
          "Czech Republic",
          "Czech Republic",
          "Democratic Republic of the Congo",
          "Democratic Republic of the Congo",
          "Denmark",
          "Djibouti",
          "Ecuador",
          "Ecuador",
          "Egypt",
          "Egypt",
          "Egypt",
          "Egypt",
          "Egypt",
          "Egypt",
          "Ethiopia",
          "Ethiopia",
          "Ethiopia",
          "Ethiopia",
          "Ethiopia",
          "Finland",
          "Finland",
          "Finland",
          "France",
          "France",
          "France",
          "France",
          "France",
          "France",
          "France",
          "France",
          "Gabon",
          "Georgia",
          "Georgia",
          "Georgia",
          "Germany",
          "Germany",
          "Germany",
          "Germany",
          "Germany",
          "Germany",
          "Germany",
          "Germany",
          "Germany",
          "Germany",
          "Germany",
          "Ghana",
          "Ghana",
          "Ghana",
          "Greece",
          "Greece",
          "Greece",
          "Greece",
          "Guinea",
          "Guinea",
          "Guinea",
          "Guinea",
          "Guinea-Bissau",
          "Guyana",
          "Guyana",
          "Hungary",
          "Hungary",
          "Hungary",
          "India",
          "India",
          "India",
          "India",
          "India",
          "India",
          "India",
          "India",
          "Indonesia",
          "Indonesia",
          "Indonesia",
          "Indonesia",
          "Indonesia",
          "Indonesia",
          "Indonesia",
          "Indonesia",
          "Indonesia",
          "Indonesia",
          "Indonesia",
          "Indonesia",
          "Indonesia",
          "Indonesia",
          "Indonesia",
          "Indonesia",
          "Iran",
          "Iran",
          "Iran",
          "Iraq",
          "Iraq",
          "Ireland",
          "Ireland",
          "Ireland",
          "Israel",
          "Israel",
          "Israel",
          "Israel",
          "Italy",
          "Italy",
          "Italy",
          "Italy",
          "Italy",
          "Italy",
          "Italy",
          "Italy",
          "Italy",
          "Jamaica",
          "Japan",
          "Japan",
          "Japan",
          "Japan",
          "Japan",
          "Japan",
          "Japan",
          "Japan",
          "Jordan",
          "Jordan",
          "Jordan",
          "Kazakhstan",
          "Kazakhstan",
          "Kazakhstan",
          "Kazakhstan",
          "Kazakhstan",
          "Kazakhstan",
          "Kazakhstan",
          "Kazakhstan",
          "Kenya",
          "Kenya",
          "Kenya",
          "Kenya",
          "Kyrgyzstan",
          "Laos",
          "Laos",
          "Laos",
          "Laos",
          "Laos",
          "Laos",
          "Laos",
          "Laos",
          "Liberia",
          "Liberia",
          "Luxembourg",
          "Luxembourg",
          "Madagascar",
          "Malawi",
          "Malaysia",
          "Malaysia",
          "Malaysia",
          "Malaysia",
          "Malaysia",
          "Malaysia",
          "Malaysia",
          "Malaysia",
          "Malaysia",
          "Malaysia",
          "Malaysia",
          "Malaysia",
          "Malaysia",
          "Maldives",
          "Mauritius",
          "Mexico",
          "Mexico",
          "Mexico",
          "Mexico",
          "Mexico",
          "Mongolia",
          "Mongolia",
          "Mongolia",
          "Mongolia",
          "Montenegro",
          "Morocco",
          "Mozambique",
          "Mozambique",
          "Myanmar",
          "Myanmar",
          "Myanmar",
          "Myanmar",
          "Myanmar",
          "Myanmar",
          "Namibia",
          "Nepal",
          "Nepal",
          "Netherlands",
          "Netherlands",
          "Netherlands",
          "Netherlands",
          "New Zealand",
          "Nicaragua",
          "Niger",
          "Nigeria",
          "Nigeria",
          "Nigeria",
          "Nigeria",
          "Nigeria",
          "Nigeria",
          "North Korea",
          "Norway",
          "Norway",
          "Norway",
          "Norway",
          "Norway",
          "Oman",
          "Oman",
          "Pakistan",
          "Pakistan",
          "Pakistan",
          "Pakistan",
          "Pakistan",
          "Pakistan",
          "Pakistan",
          "Pakistan",
          "Pakistan",
          "Panama",
          "Papua New Guinea",
          "Peru",
          "Peru",
          "Peru",
          "Peru",
          "Philippines",
          "Philippines",
          "Philippines",
          "Poland",
          "Poland",
          "Portugal",
          "Portugal",
          "Portugal",
          "Portugal",
          "Qatar",
          "Russian Federation",
          "Russian Federation",
          "Russian Federation",
          "Russian Federation",
          "Russian Federation",
          "Russian Federation",
          "Russian Federation",
          "Russian Federation",
          "Russian Federation",
          "Russian Federation",
          "Russian Federation",
          "Russian Federation",
          "Rwanda",
          "Sao Tome",
          "Sao Tome",
          "Saudi Arabia",
          "Saudi Arabia",
          "Saudi Arabia",
          "Saudi Arabia",
          "Saudi Arabia",
          "Saudi Arabia",
          "Serbia",
          "Serbia",
          "Serbia",
          "Serbia",
          "Serbia",
          "Sierra Leone",
          "Singapore",
          "Singapore",
          "Singapore",
          "Singapore",
          "Singapore",
          "Singapore",
          "Singapore",
          "Singapore",
          "Singapore",
          "Singapore",
          "Singapore",
          "South Africa",
          "South Africa",
          "South Africa",
          "South Africa",
          "South Africa",
          "South Africa",
          "South Africa",
          "South Africa",
          "South Africa",
          "South Korea",
          "South Korea",
          "South Korea",
          "South Korea",
          "South Korea",
          "Spain",
          "Spain",
          "Spain",
          "Spain",
          "Spain",
          "Spain",
          "Spain",
          "Spain",
          "Sri Lanka",
          "Sri Lanka",
          "Sri Lanka",
          "Sri Lanka",
          "Sudan",
          "Sweden",
          "Sweden",
          "Sweden",
          "Switzerland",
          "Switzerland",
          "Switzerland",
          "Switzerland",
          "Switzerland",
          "Syria",
          "Taiwan",
          "Tajikistan",
          "Tanzania",
          "Tanzania",
          "Thailand",
          "Thailand",
          "Thailand",
          "Thailand",
          "Thailand",
          "Thailand",
          "Thailand",
          "Thailand",
          "Trinidad-Tobago",
          "Turkey",
          "Turkey",
          "Turkey",
          "Turkey",
          "Turkey",
          "Turkmenistan",
          "UAE",
          "UAE",
          "UAE",
          "UAE",
          "UAE",
          "USA",
          "USA",
          "USA",
          "USA",
          "USA",
          "USA",
          "USA",
          "USA",
          "USA",
          "USA",
          "USA",
          "USA",
          "USA",
          "USA",
          "USA",
          "USA",
          "USA",
          "USA",
          "USA",
          "Uganda",
          "Uganda",
          "Uganda",
          "Uganda",
          "Ukraine",
          "Uzbekistan",
          "Uzbekistan",
          "Uzbekistan",
          "Uzbekistan",
          "Venezuela",
          "Venezuela",
          "Vietnam",
          "Vietnam",
          "Vietnam",
          "Vietnam",
          "Vietnam",
          "Vietnam",
          "Yemen",
          "Zambia",
          "Zambia",
          "Zambia",
          "Zambia",
          "Zimbabwe",
          "Zimbabwe",
          "Zimbabwe",
          "Zimbabwe",
          "Alternative",
          "Aluminum",
          "Autos",
          "Aviation",
          "Banking",
          "Coal",
          "Construction",
          "Copper",
          "Education",
          "Gas",
          "Hydro",
          "Industry",
          "Investment",
          "Oil",
          "Property",
          "Rail",
          "Shipping",
          "Steel",
          "Telecom",
          "Textiles",
          "Timber",
          "Energy",
          "Finance",
          "Metals",
          "Other",
          "Real estate",
          "Technology",
          "Transport"
         ],
         "name": "",
         "parents": [
          "Metals/Copper",
          "Energy/Oil",
          "Energy/Oil",
          "Energy/Oil",
          "Real estate/Property",
          "Energy/Alternative",
          "Transport/Autos",
          "Finance/Banking",
          "Energy/Gas",
          "Energy/Oil",
          "Energy/Alternative",
          "Metals/Aluminum",
          "Transport/Aviation",
          "Finance/Banking",
          "Energy/Coal",
          "Real estate/Construction",
          "Metals/Copper",
          "Energy/Gas",
          "Energy/Hydro",
          "Finance/Investment",
          "Energy/Oil",
          "Real estate/Property",
          "Transport/Rail",
          "Transport/Shipping",
          "Metals/Steel",
          "Transport/Autos",
          "Transport/Aviation",
          "Finance/Investment",
          "Transport/Autos",
          "Energy/Alternative",
          "Transport/Autos",
          "Energy/Coal",
          "Other/Industry",
          "Finance/Investment",
          "Metals/Steel",
          "Other/Textiles",
          "Transport/Autos",
          "Finance/Banking",
          "Energy/Oil",
          "Real estate/Property",
          "Energy/Alternative",
          "Metals/Aluminum",
          "Transport/Autos",
          "Metals/Copper",
          "Energy/Alternative",
          "Transport/Autos",
          "Transport/Aviation",
          "Finance/Banking",
          "Real estate/Construction",
          "Energy/Gas",
          "Energy/Hydro",
          "Finance/Investment",
          "Energy/Oil",
          "Real estate/Property",
          "Transport/Shipping",
          "Metals/Steel",
          "Technology/Telecom",
          "Energy/Alternative",
          "Transport/Autos",
          "Transport/Aviation",
          "Finance/Banking",
          "Other/Education",
          "Energy/Gas",
          "Other/Industry",
          "Finance/Investment",
          "Energy/Oil",
          "Real estate/Property",
          "Transport/Shipping",
          "Metals/Steel",
          "Technology/Telecom",
          "Other/Textiles",
          "Energy/Oil",
          "Transport/Autos",
          "Transport/Autos",
          "Transport/Aviation",
          "Finance/Banking",
          "Energy/Coal",
          "Real estate/Construction",
          "Energy/Hydro",
          "Real estate/Property",
          "Metals/Steel",
          "Transport/Autos",
          "Energy/Oil",
          "Metals/Steel",
          "Energy/Alternative",
          "Transport/Autos",
          "Real estate/Construction",
          "Metals/Copper",
          "Energy/Gas",
          "Finance/Investment",
          "Energy/Oil",
          "Real estate/Property",
          "Metals/Steel",
          "Technology/Telecom",
          "Other/Timber",
          "Energy/Oil",
          "Energy/Alternative",
          "Transport/Autos",
          "Energy/Hydro",
          "Metals/Steel",
          "Technology/Telecom",
          "Transport/Autos",
          "Energy/Gas",
          "Energy/Hydro",
          "Energy/Oil",
          "Transport/Rail",
          "Real estate/Construction",
          "Metals/Copper",
          "Energy/Alternative",
          "Finance/Investment",
          "Real estate/Property",
          "Metals/Copper",
          "Energy/Hydro",
          "Finance/Banking",
          "Transport/Shipping",
          "Metals/Copper",
          "Energy/Oil",
          "Energy/Alternative",
          "Metals/Aluminum",
          "Real estate/Construction",
          "Other/Industry",
          "Real estate/Property",
          "Metals/Steel",
          "Real estate/Construction",
          "Energy/Gas",
          "Other/Industry",
          "Real estate/Property",
          "Other/Textiles",
          "Transport/Autos",
          "Technology/Telecom",
          "Other/Timber",
          "Energy/Alternative",
          "Metals/Aluminum",
          "Transport/Autos",
          "Transport/Aviation",
          "Real estate/Property",
          "Transport/Shipping",
          "Technology/Telecom",
          "Other/Textiles",
          "Energy/Oil",
          "Finance/Banking",
          "Other/Industry",
          "Real estate/Property",
          "Energy/Alternative",
          "Metals/Aluminum",
          "Transport/Autos",
          "Transport/Aviation",
          "Finance/Banking",
          "Real estate/Construction",
          "Other/Industry",
          "Real estate/Property",
          "Metals/Steel",
          "Technology/Telecom",
          "Other/Textiles",
          "Energy/Alternative",
          "Metals/Aluminum",
          "Energy/Gas",
          "Energy/Alternative",
          "Transport/Aviation",
          "Transport/Shipping",
          "Technology/Telecom",
          "Metals/Aluminum",
          "Energy/Hydro",
          "Real estate/Property",
          "Metals/Steel",
          "Energy/Alternative",
          "Metals/Aluminum",
          "Energy/Oil",
          "Energy/Alternative",
          "Transport/Autos",
          "Technology/Telecom",
          "Energy/Alternative",
          "Transport/Autos",
          "Finance/Banking",
          "Real estate/Construction",
          "Real estate/Property",
          "Metals/Steel",
          "Technology/Telecom",
          "Other/Textiles",
          "Energy/Alternative",
          "Metals/Aluminum",
          "Transport/Autos",
          "Energy/Coal",
          "Real estate/Construction",
          "Metals/Copper",
          "Energy/Gas",
          "Energy/Hydro",
          "Other/Industry",
          "Energy/Oil",
          "Real estate/Property",
          "Transport/Rail",
          "Transport/Shipping",
          "Metals/Steel",
          "Technology/Telecom",
          "Other/Textiles",
          "Energy/Gas",
          "Energy/Oil",
          "Metals/Steel",
          "Energy/Gas",
          "Energy/Oil",
          "Energy/Alternative",
          "Transport/Aviation",
          "Technology/Telecom",
          "Energy/Gas",
          "Other/Industry",
          "Transport/Shipping",
          "Technology/Telecom",
          "Energy/Alternative",
          "Transport/Autos",
          "Finance/Banking",
          "Real estate/Construction",
          "Energy/Oil",
          "Real estate/Property",
          "Transport/Shipping",
          "Technology/Telecom",
          "Other/Textiles",
          "Transport/Autos",
          "Energy/Alternative",
          "Transport/Autos",
          "Finance/Banking",
          "Other/Industry",
          "Energy/Oil",
          "Real estate/Property",
          "Technology/Telecom",
          "Other/Textiles",
          "Energy/Alternative",
          "Other/Industry",
          "Energy/Oil",
          "Energy/Alternative",
          "Transport/Autos",
          "Finance/Banking",
          "Real estate/Construction",
          "Metals/Copper",
          "Energy/Gas",
          "Energy/Oil",
          "Other/Timber",
          "Transport/Autos",
          "Real estate/Construction",
          "Real estate/Property",
          "Technology/Telecom",
          "Energy/Oil",
          "Energy/Alternative",
          "Transport/Autos",
          "Real estate/Construction",
          "Energy/Hydro",
          "Energy/Oil",
          "Real estate/Property",
          "Transport/Rail",
          "Other/Timber",
          "Energy/Oil",
          "Metals/Steel",
          "Transport/Aviation",
          "Finance/Banking",
          "Energy/Oil",
          "Real estate/Property",
          "Energy/Alternative",
          "Metals/Aluminum",
          "Transport/Autos",
          "Real estate/Construction",
          "Other/Education",
          "Finance/Investment",
          "Energy/Oil",
          "Real estate/Property",
          "Transport/Rail",
          "Transport/Shipping",
          "Metals/Steel",
          "Other/Textiles",
          "Other/Timber",
          "Transport/Aviation",
          "Real estate/Property",
          "Energy/Alternative",
          "Transport/Autos",
          "Metals/Copper",
          "Other/Industry",
          "Energy/Oil",
          "Energy/Coal",
          "Energy/Hydro",
          "Energy/Oil",
          "Metals/Steel",
          "Energy/Alternative",
          "Transport/Autos",
          "Real estate/Construction",
          "Energy/Gas",
          "Real estate/Construction",
          "Metals/Copper",
          "Energy/Gas",
          "Energy/Oil",
          "Transport/Shipping",
          "Metals/Steel",
          "Real estate/Construction",
          "Real estate/Construction",
          "Energy/Hydro",
          "Transport/Autos",
          "Finance/Investment",
          "Real estate/Property",
          "Transport/Shipping",
          "Technology/Telecom",
          "Technology/Telecom",
          "Energy/Oil",
          "Energy/Oil",
          "Real estate/Property",
          "Transport/Rail",
          "Transport/Shipping",
          "Technology/Telecom",
          "Other/Textiles",
          "Transport/Rail",
          "Energy/Alternative",
          "Transport/Aviation",
          "Energy/Oil",
          "Transport/Shipping",
          "Technology/Telecom",
          "Real estate/Construction",
          "Other/Industry",
          "Energy/Alternative",
          "Finance/Banking",
          "Energy/Coal",
          "Energy/Gas",
          "Energy/Hydro",
          "Other/Industry",
          "Transport/Shipping",
          "Technology/Telecom",
          "Other/Textiles",
          "Transport/Shipping",
          "Metals/Steel",
          "Metals/Copper",
          "Energy/Hydro",
          "Transport/Shipping",
          "Metals/Steel",
          "Transport/Rail",
          "Metals/Steel",
          "Technology/Telecom",
          "Energy/Alternative",
          "Transport/Autos",
          "Energy/Alternative",
          "Finance/Banking",
          "Real estate/Construction",
          "Finance/Investment",
          "Energy/Gas",
          "Energy/Alternative",
          "Metals/Aluminum",
          "Transport/Autos",
          "Finance/Banking",
          "Energy/Coal",
          "Real estate/Construction",
          "Energy/Gas",
          "Finance/Investment",
          "Energy/Oil",
          "Real estate/Property",
          "Metals/Steel",
          "Other/Timber",
          "Real estate/Property",
          "Energy/Oil",
          "Transport/Shipping",
          "Energy/Alternative",
          "Metals/Aluminum",
          "Energy/Gas",
          "Energy/Oil",
          "Metals/Steel",
          "Technology/Telecom",
          "Energy/Alternative",
          "Transport/Autos",
          "Metals/Copper",
          "Other/Industry",
          "Metals/Steel",
          "Metals/Steel",
          "Energy/Alternative",
          "Transport/Autos",
          "Transport/Aviation",
          "Real estate/Construction",
          "Other/Education",
          "Finance/Investment",
          "Energy/Oil",
          "Real estate/Property",
          "Transport/Shipping",
          "Metals/Steel",
          "Technology/Telecom",
          "Energy/Alternative",
          "Transport/Autos",
          "Finance/Banking",
          "Energy/Coal",
          "Real estate/Construction",
          "Metals/Copper",
          "Finance/Investment",
          "Real estate/Property",
          "Metals/Steel",
          "Transport/Autos",
          "Finance/Banking",
          "Energy/Oil",
          "Real estate/Property",
          "Technology/Telecom",
          "Energy/Alternative",
          "Transport/Autos",
          "Transport/Aviation",
          "Real estate/Construction",
          "Energy/Gas",
          "Real estate/Property",
          "Transport/Shipping",
          "Technology/Telecom",
          "Transport/Autos",
          "Energy/Oil",
          "Real estate/Property",
          "Transport/Shipping",
          "Energy/Oil",
          "Energy/Alternative",
          "Transport/Autos",
          "Other/Timber",
          "Transport/Aviation",
          "Other/Industry",
          "Energy/Oil",
          "Metals/Steel",
          "Other/Textiles",
          "Energy/Oil",
          "Other/Education",
          "Real estate/Construction",
          "Real estate/Construction",
          "Energy/Oil",
          "Energy/Alternative",
          "Transport/Autos",
          "Finance/Banking",
          "Other/Industry",
          "Real estate/Property",
          "Transport/Rail",
          "Metals/Steel",
          "Technology/Telecom",
          "Energy/Oil",
          "Energy/Alternative",
          "Transport/Autos",
          "Finance/Banking",
          "Energy/Coal",
          "Technology/Telecom",
          "Energy/Gas",
          "Energy/Alternative",
          "Transport/Autos",
          "Energy/Coal",
          "Other/Industry",
          "Energy/Oil",
          "Energy/Alternative",
          "Metals/Aluminum",
          "Transport/Autos",
          "Transport/Aviation",
          "Finance/Banking",
          "Real estate/Construction",
          "Metals/Copper",
          "Other/Education",
          "Energy/Gas",
          "Other/Industry",
          "Finance/Investment",
          "Energy/Oil",
          "Real estate/Property",
          "Transport/Rail",
          "Transport/Shipping",
          "Metals/Steel",
          "Technology/Telecom",
          "Other/Textiles",
          "Other/Timber",
          "Real estate/Construction",
          "Metals/Copper",
          "Energy/Oil",
          "Metals/Steel",
          "Energy/Alternative",
          "Energy/Alternative",
          "Real estate/Construction",
          "Energy/Gas",
          "Other/Industry",
          "Transport/Autos",
          "Energy/Oil",
          "Energy/Alternative",
          "Transport/Autos",
          "Energy/Coal",
          "Metals/Steel",
          "Technology/Telecom",
          "Other/Textiles",
          "Energy/Oil",
          "Transport/Autos",
          "Real estate/Construction",
          "Metals/Copper",
          "Real estate/Property",
          "Energy/Alternative",
          "Energy/Gas",
          "Other/Industry",
          "Metals/Steel",
          "Energy",
          "Metals",
          "Transport",
          "Transport",
          "Finance",
          "Energy",
          "Real estate",
          "Metals",
          "Other",
          "Energy",
          "Energy",
          "Other",
          "Finance",
          "Energy",
          "Real estate",
          "Transport",
          "Transport",
          "Metals",
          "Technology",
          "Other",
          "Other",
          "",
          "",
          "",
          "",
          "",
          "",
          ""
         ],
         "type": "treemap",
         "values": [
          2520,
          550,
          430,
          3240,
          1790,
          900,
          170,
          960,
          120,
          330,
          4710,
          14770,
          550,
          1780,
          13990,
          470,
          1630,
          10320,
          2200,
          150,
          1000,
          11960,
          610,
          3200,
          9350,
          140,
          140,
          230,
          270,
          590,
          1100,
          2680,
          110,
          160,
          2130,
          300,
          160,
          230,
          260,
          460,
          150,
          110,
          350,
          1880,
          2630,
          3130,
          460,
          1370,
          900,
          1760,
          6880,
          200,
          20580,
          140,
          1160,
          2480,
          300,
          1480,
          2000,
          1390,
          15840,
          190,
          1780,
          160,
          1810,
          1500,
          16060,
          690,
          150,
          7810,
          340,
          3440,
          120,
          4180,
          830,
          170,
          1860,
          120,
          2570,
          680,
          500,
          500,
          540,
          1340,
          410,
          690,
          120,
          4560,
          7990,
          200,
          14900,
          2220,
          560,
          310,
          360,
          1630,
          630,
          1920,
          240,
          1910,
          100,
          410,
          980,
          230,
          430,
          4840,
          100,
          150,
          220,
          550,
          310,
          11930,
          870,
          730,
          700,
          3610,
          2760,
          350,
          940,
          280,
          1100,
          230,
          150,
          510,
          360,
          270,
          300,
          570,
          140,
          420,
          610,
          110,
          170,
          2410,
          820,
          1150,
          530,
          800,
          2230,
          400,
          100,
          100,
          170,
          3640,
          230,
          24090,
          580,
          3270,
          4700,
          1930,
          1760,
          450,
          100,
          270,
          110,
          1200,
          790,
          1640,
          200,
          6590,
          560,
          2980,
          1160,
          2000,
          2120,
          170,
          100,
          4940,
          740,
          4190,
          1410,
          1160,
          1540,
          790,
          350,
          310,
          2760,
          1300,
          740,
          900,
          1820,
          4960,
          5980,
          1370,
          860,
          1850,
          1150,
          250,
          100,
          510,
          3060,
          200,
          8740,
          200,
          100,
          600,
          3770,
          350,
          2470,
          11660,
          430,
          6370,
          690,
          260,
          170,
          1700,
          150,
          300,
          8140,
          2180,
          490,
          100,
          380,
          610,
          2010,
          140,
          730,
          110,
          3320,
          190,
          110,
          100,
          4000,
          190,
          160,
          160,
          350,
          950,
          220,
          710,
          110,
          180,
          120,
          4160,
          11590,
          160,
          620,
          100,
          430,
          170,
          710,
          750,
          1230,
          310,
          4050,
          130,
          520,
          4170,
          1270,
          160,
          360,
          350,
          1760,
          150,
          100,
          1850,
          1290,
          1000,
          750,
          330,
          120,
          140,
          4540,
          260,
          480,
          600,
          200,
          1830,
          110,
          740,
          1200,
          730,
          100,
          440,
          1390,
          1770,
          100,
          700,
          2090,
          100,
          970,
          100,
          4210,
          280,
          1480,
          170,
          2100,
          910,
          100,
          370,
          390,
          730,
          270,
          100,
          560,
          560,
          280,
          300,
          5380,
          2500,
          190,
          390,
          790,
          550,
          200,
          2000,
          640,
          180,
          2490,
          380,
          1420,
          190,
          1040,
          1180,
          180,
          7370,
          200,
          3360,
          120,
          620,
          1680,
          120,
          310,
          1760,
          11840,
          1610,
          780,
          3950,
          400,
          3500,
          760,
          540,
          100,
          730,
          490,
          200,
          470,
          1050,
          450,
          500,
          1390,
          200,
          460,
          310,
          10760,
          100,
          2010,
          1650,
          580,
          220,
          120,
          150,
          120,
          2060,
          1200,
          4650,
          4930,
          440,
          400,
          520,
          950,
          1460,
          260,
          240,
          4600,
          670,
          600,
          970,
          150,
          490,
          1500,
          2180,
          7730,
          530,
          330,
          120,
          380,
          620,
          5600,
          210,
          120,
          1740,
          250,
          110,
          230,
          1890,
          260,
          130,
          990,
          470,
          1770,
          1790,
          120,
          280,
          730,
          360,
          230,
          1500,
          300,
          100,
          1690,
          1120,
          260,
          920,
          10220,
          290,
          700,
          190,
          1700,
          400,
          700,
          2280,
          840,
          300,
          1140,
          220,
          460,
          2800,
          530,
          150,
          500,
          740,
          130,
          880,
          320,
          600,
          120,
          430,
          2080,
          100,
          600,
          1210,
          610,
          820,
          300,
          3840,
          1690,
          160,
          10910,
          11090,
          1350,
          150,
          270,
          850,
          5290,
          3490,
          18030,
          6130,
          32450,
          200,
          120,
          1300,
          3810,
          2950,
          650,
          300,
          180,
          1820,
          100,
          180,
          400,
          1490,
          320,
          110,
          200,
          4370,
          1860,
          1630,
          3430,
          260,
          110,
          840,
          470,
          650,
          900,
          1610,
          140,
          250,
          980,
          120,
          850,
          42170,
          25470,
          104970,
          24860,
          38520,
          40650,
          17420,
          45940,
          2700,
          62400,
          25150,
          10770,
          23870,
          131960,
          97250,
          16670,
          22330,
          54810,
          28900,
          9860,
          5390,
          302330,
          62390,
          126220,
          28720,
          114670,
          28900,
          168830
         ]
        }
       ],
       "layout": {
        "annotations": [
         {
          "showarrow": false,
          "text": "Source: American Enterprise Institute | Visualization: https://medium.com/@ranggaakhli",
          "x": 0.5,
          "xref": "paper",
          "y": -0.3,
          "yref": "paper"
         }
        ],
        "legend": {
         "tracegroupgap": 0
        },
        "template": {
         "data": {
          "bar": [
           {
            "error_x": {
             "color": "#2a3f5f"
            },
            "error_y": {
             "color": "#2a3f5f"
            },
            "marker": {
             "line": {
              "color": "#E5ECF6",
              "width": 0.5
             },
             "pattern": {
              "fillmode": "overlay",
              "size": 10,
              "solidity": 0.2
             }
            },
            "type": "bar"
           }
          ],
          "barpolar": [
           {
            "marker": {
             "line": {
              "color": "#E5ECF6",
              "width": 0.5
             },
             "pattern": {
              "fillmode": "overlay",
              "size": 10,
              "solidity": 0.2
             }
            },
            "type": "barpolar"
           }
          ],
          "carpet": [
           {
            "aaxis": {
             "endlinecolor": "#2a3f5f",
             "gridcolor": "white",
             "linecolor": "white",
             "minorgridcolor": "white",
             "startlinecolor": "#2a3f5f"
            },
            "baxis": {
             "endlinecolor": "#2a3f5f",
             "gridcolor": "white",
             "linecolor": "white",
             "minorgridcolor": "white",
             "startlinecolor": "#2a3f5f"
            },
            "type": "carpet"
           }
          ],
          "choropleth": [
           {
            "colorbar": {
             "outlinewidth": 0,
             "ticks": ""
            },
            "type": "choropleth"
           }
          ],
          "contour": [
           {
            "colorbar": {
             "outlinewidth": 0,
             "ticks": ""
            },
            "colorscale": [
             [
              0,
              "#0d0887"
             ],
             [
              0.1111111111111111,
              "#46039f"
             ],
             [
              0.2222222222222222,
              "#7201a8"
             ],
             [
              0.3333333333333333,
              "#9c179e"
             ],
             [
              0.4444444444444444,
              "#bd3786"
             ],
             [
              0.5555555555555556,
              "#d8576b"
             ],
             [
              0.6666666666666666,
              "#ed7953"
             ],
             [
              0.7777777777777778,
              "#fb9f3a"
             ],
             [
              0.8888888888888888,
              "#fdca26"
             ],
             [
              1,
              "#f0f921"
             ]
            ],
            "type": "contour"
           }
          ],
          "contourcarpet": [
           {
            "colorbar": {
             "outlinewidth": 0,
             "ticks": ""
            },
            "type": "contourcarpet"
           }
          ],
          "heatmap": [
           {
            "colorbar": {
             "outlinewidth": 0,
             "ticks": ""
            },
            "colorscale": [
             [
              0,
              "#0d0887"
             ],
             [
              0.1111111111111111,
              "#46039f"
             ],
             [
              0.2222222222222222,
              "#7201a8"
             ],
             [
              0.3333333333333333,
              "#9c179e"
             ],
             [
              0.4444444444444444,
              "#bd3786"
             ],
             [
              0.5555555555555556,
              "#d8576b"
             ],
             [
              0.6666666666666666,
              "#ed7953"
             ],
             [
              0.7777777777777778,
              "#fb9f3a"
             ],
             [
              0.8888888888888888,
              "#fdca26"
             ],
             [
              1,
              "#f0f921"
             ]
            ],
            "type": "heatmap"
           }
          ],
          "heatmapgl": [
           {
            "colorbar": {
             "outlinewidth": 0,
             "ticks": ""
            },
            "colorscale": [
             [
              0,
              "#0d0887"
             ],
             [
              0.1111111111111111,
              "#46039f"
             ],
             [
              0.2222222222222222,
              "#7201a8"
             ],
             [
              0.3333333333333333,
              "#9c179e"
             ],
             [
              0.4444444444444444,
              "#bd3786"
             ],
             [
              0.5555555555555556,
              "#d8576b"
             ],
             [
              0.6666666666666666,
              "#ed7953"
             ],
             [
              0.7777777777777778,
              "#fb9f3a"
             ],
             [
              0.8888888888888888,
              "#fdca26"
             ],
             [
              1,
              "#f0f921"
             ]
            ],
            "type": "heatmapgl"
           }
          ],
          "histogram": [
           {
            "marker": {
             "pattern": {
              "fillmode": "overlay",
              "size": 10,
              "solidity": 0.2
             }
            },
            "type": "histogram"
           }
          ],
          "histogram2d": [
           {
            "colorbar": {
             "outlinewidth": 0,
             "ticks": ""
            },
            "colorscale": [
             [
              0,
              "#0d0887"
             ],
             [
              0.1111111111111111,
              "#46039f"
             ],
             [
              0.2222222222222222,
              "#7201a8"
             ],
             [
              0.3333333333333333,
              "#9c179e"
             ],
             [
              0.4444444444444444,
              "#bd3786"
             ],
             [
              0.5555555555555556,
              "#d8576b"
             ],
             [
              0.6666666666666666,
              "#ed7953"
             ],
             [
              0.7777777777777778,
              "#fb9f3a"
             ],
             [
              0.8888888888888888,
              "#fdca26"
             ],
             [
              1,
              "#f0f921"
             ]
            ],
            "type": "histogram2d"
           }
          ],
          "histogram2dcontour": [
           {
            "colorbar": {
             "outlinewidth": 0,
             "ticks": ""
            },
            "colorscale": [
             [
              0,
              "#0d0887"
             ],
             [
              0.1111111111111111,
              "#46039f"
             ],
             [
              0.2222222222222222,
              "#7201a8"
             ],
             [
              0.3333333333333333,
              "#9c179e"
             ],
             [
              0.4444444444444444,
              "#bd3786"
             ],
             [
              0.5555555555555556,
              "#d8576b"
             ],
             [
              0.6666666666666666,
              "#ed7953"
             ],
             [
              0.7777777777777778,
              "#fb9f3a"
             ],
             [
              0.8888888888888888,
              "#fdca26"
             ],
             [
              1,
              "#f0f921"
             ]
            ],
            "type": "histogram2dcontour"
           }
          ],
          "mesh3d": [
           {
            "colorbar": {
             "outlinewidth": 0,
             "ticks": ""
            },
            "type": "mesh3d"
           }
          ],
          "parcoords": [
           {
            "line": {
             "colorbar": {
              "outlinewidth": 0,
              "ticks": ""
             }
            },
            "type": "parcoords"
           }
          ],
          "pie": [
           {
            "automargin": true,
            "type": "pie"
           }
          ],
          "scatter": [
           {
            "fillpattern": {
             "fillmode": "overlay",
             "size": 10,
             "solidity": 0.2
            },
            "type": "scatter"
           }
          ],
          "scatter3d": [
           {
            "line": {
             "colorbar": {
              "outlinewidth": 0,
              "ticks": ""
             }
            },
            "marker": {
             "colorbar": {
              "outlinewidth": 0,
              "ticks": ""
             }
            },
            "type": "scatter3d"
           }
          ],
          "scattercarpet": [
           {
            "marker": {
             "colorbar": {
              "outlinewidth": 0,
              "ticks": ""
             }
            },
            "type": "scattercarpet"
           }
          ],
          "scattergeo": [
           {
            "marker": {
             "colorbar": {
              "outlinewidth": 0,
              "ticks": ""
             }
            },
            "type": "scattergeo"
           }
          ],
          "scattergl": [
           {
            "marker": {
             "colorbar": {
              "outlinewidth": 0,
              "ticks": ""
             }
            },
            "type": "scattergl"
           }
          ],
          "scattermapbox": [
           {
            "marker": {
             "colorbar": {
              "outlinewidth": 0,
              "ticks": ""
             }
            },
            "type": "scattermapbox"
           }
          ],
          "scatterpolar": [
           {
            "marker": {
             "colorbar": {
              "outlinewidth": 0,
              "ticks": ""
             }
            },
            "type": "scatterpolar"
           }
          ],
          "scatterpolargl": [
           {
            "marker": {
             "colorbar": {
              "outlinewidth": 0,
              "ticks": ""
             }
            },
            "type": "scatterpolargl"
           }
          ],
          "scatterternary": [
           {
            "marker": {
             "colorbar": {
              "outlinewidth": 0,
              "ticks": ""
             }
            },
            "type": "scatterternary"
           }
          ],
          "surface": [
           {
            "colorbar": {
             "outlinewidth": 0,
             "ticks": ""
            },
            "colorscale": [
             [
              0,
              "#0d0887"
             ],
             [
              0.1111111111111111,
              "#46039f"
             ],
             [
              0.2222222222222222,
              "#7201a8"
             ],
             [
              0.3333333333333333,
              "#9c179e"
             ],
             [
              0.4444444444444444,
              "#bd3786"
             ],
             [
              0.5555555555555556,
              "#d8576b"
             ],
             [
              0.6666666666666666,
              "#ed7953"
             ],
             [
              0.7777777777777778,
              "#fb9f3a"
             ],
             [
              0.8888888888888888,
              "#fdca26"
             ],
             [
              1,
              "#f0f921"
             ]
            ],
            "type": "surface"
           }
          ],
          "table": [
           {
            "cells": {
             "fill": {
              "color": "#EBF0F8"
             },
             "line": {
              "color": "white"
             }
            },
            "header": {
             "fill": {
              "color": "#C8D4E3"
             },
             "line": {
              "color": "white"
             }
            },
            "type": "table"
           }
          ]
         },
         "layout": {
          "annotationdefaults": {
           "arrowcolor": "#2a3f5f",
           "arrowhead": 0,
           "arrowwidth": 1
          },
          "autotypenumbers": "strict",
          "coloraxis": {
           "colorbar": {
            "outlinewidth": 0,
            "ticks": ""
           }
          },
          "colorscale": {
           "diverging": [
            [
             0,
             "#8e0152"
            ],
            [
             0.1,
             "#c51b7d"
            ],
            [
             0.2,
             "#de77ae"
            ],
            [
             0.3,
             "#f1b6da"
            ],
            [
             0.4,
             "#fde0ef"
            ],
            [
             0.5,
             "#f7f7f7"
            ],
            [
             0.6,
             "#e6f5d0"
            ],
            [
             0.7,
             "#b8e186"
            ],
            [
             0.8,
             "#7fbc41"
            ],
            [
             0.9,
             "#4d9221"
            ],
            [
             1,
             "#276419"
            ]
           ],
           "sequential": [
            [
             0,
             "#0d0887"
            ],
            [
             0.1111111111111111,
             "#46039f"
            ],
            [
             0.2222222222222222,
             "#7201a8"
            ],
            [
             0.3333333333333333,
             "#9c179e"
            ],
            [
             0.4444444444444444,
             "#bd3786"
            ],
            [
             0.5555555555555556,
             "#d8576b"
            ],
            [
             0.6666666666666666,
             "#ed7953"
            ],
            [
             0.7777777777777778,
             "#fb9f3a"
            ],
            [
             0.8888888888888888,
             "#fdca26"
            ],
            [
             1,
             "#f0f921"
            ]
           ],
           "sequentialminus": [
            [
             0,
             "#0d0887"
            ],
            [
             0.1111111111111111,
             "#46039f"
            ],
            [
             0.2222222222222222,
             "#7201a8"
            ],
            [
             0.3333333333333333,
             "#9c179e"
            ],
            [
             0.4444444444444444,
             "#bd3786"
            ],
            [
             0.5555555555555556,
             "#d8576b"
            ],
            [
             0.6666666666666666,
             "#ed7953"
            ],
            [
             0.7777777777777778,
             "#fb9f3a"
            ],
            [
             0.8888888888888888,
             "#fdca26"
            ],
            [
             1,
             "#f0f921"
            ]
           ]
          },
          "colorway": [
           "#636efa",
           "#EF553B",
           "#00cc96",
           "#ab63fa",
           "#FFA15A",
           "#19d3f3",
           "#FF6692",
           "#B6E880",
           "#FF97FF",
           "#FECB52"
          ],
          "font": {
           "color": "#2a3f5f"
          },
          "geo": {
           "bgcolor": "white",
           "lakecolor": "white",
           "landcolor": "#E5ECF6",
           "showlakes": true,
           "showland": true,
           "subunitcolor": "white"
          },
          "hoverlabel": {
           "align": "left"
          },
          "hovermode": "closest",
          "mapbox": {
           "style": "light"
          },
          "paper_bgcolor": "white",
          "plot_bgcolor": "#E5ECF6",
          "polar": {
           "angularaxis": {
            "gridcolor": "white",
            "linecolor": "white",
            "ticks": ""
           },
           "bgcolor": "#E5ECF6",
           "radialaxis": {
            "gridcolor": "white",
            "linecolor": "white",
            "ticks": ""
           }
          },
          "scene": {
           "xaxis": {
            "backgroundcolor": "#E5ECF6",
            "gridcolor": "white",
            "gridwidth": 2,
            "linecolor": "white",
            "showbackground": true,
            "ticks": "",
            "zerolinecolor": "white"
           },
           "yaxis": {
            "backgroundcolor": "#E5ECF6",
            "gridcolor": "white",
            "gridwidth": 2,
            "linecolor": "white",
            "showbackground": true,
            "ticks": "",
            "zerolinecolor": "white"
           },
           "zaxis": {
            "backgroundcolor": "#E5ECF6",
            "gridcolor": "white",
            "gridwidth": 2,
            "linecolor": "white",
            "showbackground": true,
            "ticks": "",
            "zerolinecolor": "white"
           }
          },
          "shapedefaults": {
           "line": {
            "color": "#2a3f5f"
           }
          },
          "ternary": {
           "aaxis": {
            "gridcolor": "white",
            "linecolor": "white",
            "ticks": ""
           },
           "baxis": {
            "gridcolor": "white",
            "linecolor": "white",
            "ticks": ""
           },
           "bgcolor": "#E5ECF6",
           "caxis": {
            "gridcolor": "white",
            "linecolor": "white",
            "ticks": ""
           }
          },
          "title": {
           "x": 0.05
          },
          "xaxis": {
           "automargin": true,
           "gridcolor": "white",
           "linecolor": "white",
           "ticks": "",
           "title": {
            "standoff": 15
           },
           "zerolinecolor": "white",
           "zerolinewidth": 2
          },
          "yaxis": {
           "automargin": true,
           "gridcolor": "white",
           "linecolor": "white",
           "ticks": "",
           "title": {
            "standoff": 15
           },
           "zerolinecolor": "white",
           "zerolinewidth": 2
          }
         }
        },
        "title": {
         "text": "Composition of Investments by Sector, Subsector, and Country"
        }
       }
      }
     },
     "metadata": {},
     "output_type": "display_data"
    }
   ],
   "source": [
    "# Group investment data by sector, subsector, and country, sum the quantities\n",
    "investment_by_sector_subsector_country = investment_data.groupby(['Sector', 'Subsector', 'Country'])['Quantity in Millions'].sum().reset_index()\n",
    "\n",
    "# Create treemap to visualize the composition of investments by sector, subsector, and country\n",
    "fig = px.treemap(investment_by_sector_subsector_country, \n",
    "                 path=['Sector', 'Subsector', 'Country'], \n",
    "                 values='Quantity in Millions',\n",
    "                 title='Composition of Investments by Sector, Subsector, and Country')\n",
    "\n",
    "fig.add_annotation(text=\"Source: American Enterprise Institute | Visualization: https://medium.com/@ranggaakhli\", xref=\"paper\", yref=\"paper\", x=0.5, y=-0.3, showarrow=False)\n",
    "\n",
    "\n",
    "fig.show()\n",
    "\n"
   ]
  },
  {
   "cell_type": "code",
   "execution_count": 6,
   "metadata": {},
   "outputs": [
    {
     "data": {
      "application/vnd.plotly.v1+json": {
       "config": {
        "plotlyServerURL": "https://plot.ly"
       },
       "data": [
        {
         "coloraxis": "coloraxis",
         "customdata": [
          [
           3070
          ],
          [
           430
          ],
          [
           5150
          ],
          [
           740
          ],
          [
           12770
          ],
          [
           105900
          ],
          [
           1110
          ],
          [
           270
          ],
          [
           350
          ],
          [
           7070
          ],
          [
           400
          ],
          [
           4970
          ],
          [
           1780
          ],
          [
           610
          ],
          [
           1880
          ],
          [
           70980
          ],
          [
           100860
          ],
          [
           3440
          ],
          [
           120
          ],
          [
           13240
          ],
          [
           2580
          ],
          [
           57880
          ],
          [
           1630
          ],
          [
           17950
          ],
          [
           6990
          ],
          [
           590
          ],
          [
           220
          ],
          [
           500
          ],
          [
           860
          ],
          [
           18460
          ],
          [
           730
          ],
          [
           700
          ],
          [
           6370
          ],
          [
           6400
          ],
          [
           950
          ],
          [
           2010
          ],
          [
           16630
          ],
          [
           34770
          ],
          [
           400
          ],
          [
           370
          ],
          [
           52110
          ],
          [
           2570
          ],
          [
           9460
          ],
          [
           8260
          ],
          [
           170
          ],
          [
           5280
          ],
          [
           8450
          ],
          [
           17140
          ],
          [
           44360
          ],
          [
           4720
          ],
          [
           14130
          ],
          [
           8120
          ],
          [
           12030
          ],
          [
           24190
          ],
          [
           310
          ],
          [
           1170
          ],
          [
           12780
          ],
          [
           1960
          ],
          [
           20220
          ],
          [
           1320
          ],
          [
           650
          ],
          [
           860
          ],
          [
           15730
          ],
          [
           520
          ],
          [
           4680
          ],
          [
           150
          ],
          [
           100
          ],
          [
           24000
          ],
          [
           110
          ],
          [
           260
          ],
          [
           440
          ],
          [
           740
          ],
          [
           4880
          ],
          [
           4660
          ],
          [
           100
          ],
          [
           970
          ],
          [
           4920
          ],
          [
           6870
          ],
          [
           3510
          ],
          [
           1120
          ],
          [
           21570
          ],
          [
           3690
          ],
          [
           300
          ],
          [
           5570
          ],
          [
           7270
          ],
          [
           2000
          ],
          [
           7970
          ],
          [
           2200
          ],
          [
           16120
          ],
          [
           310
          ],
          [
           2060
          ],
          [
           28480
          ],
          [
           6830
          ],
          [
           1090
          ],
          [
           9480
          ],
          [
           1050
          ],
          [
           34250
          ],
          [
           120
          ],
          [
           110
          ],
          [
           270
          ],
          [
           13930
          ],
          [
           4780
          ],
          [
           4600
          ],
          [
           44040
          ],
          [
           130
          ],
          [
           1390
          ],
          [
           200
          ],
          [
           11440
          ],
          [
           13240
          ],
          [
           10970
          ],
          [
           4300
          ],
          [
           260
          ],
          [
           360
          ],
          [
           16940
          ],
          [
           61800
          ],
          [
           3760
          ],
          [
           1220
          ],
          [
           1000
          ],
          [
           1470
          ],
          [
           7450
          ],
          [
           190
          ],
          [
           1170
          ],
          [
           6190
          ],
          [
           1790
          ],
          [
           8160
          ],
          [
           195340
          ],
          [
           3320
          ],
          [
           180
          ],
          [
           2510
          ],
          [
           4570
          ],
          [
           10400
          ],
          [
           470
          ],
          [
           3770
          ],
          [
           4110
          ]
         ],
         "geo": "geo",
         "hovertemplate": "<b>%{hovertext}</b><br><br>Country=%{location}<br>Investment (Millions)=%{z}<extra></extra>",
         "hovertext": [
          "Afghanistan",
          "Algeria",
          "Angola",
          "Antigua and Barbuda",
          "Argentina",
          "Australia",
          "Austria",
          "Azerbaijan",
          "Bahamas",
          "Bangladesh",
          "Belarus",
          "Belgium",
          "Bolivia",
          "Bosnia",
          "Botswana",
          "Brazil",
          "Britain",
          "Brunei",
          "Bulgaria",
          "Cambodia",
          "Cameroon",
          "Canada",
          "Chad",
          "Chile",
          "Colombia",
          "Congo",
          "Croatia",
          "Cuba",
          "Czech Republic",
          "Democratic Republic of the Congo",
          "Denmark",
          "Djibouti",
          "Ecuador",
          "Egypt",
          "Eritrea",
          "Ethiopia",
          "Finland",
          "France",
          "Gabon",
          "Georgia",
          "Germany",
          "Ghana",
          "Greece",
          "Guinea",
          "Guinea-Bissau",
          "Guyana",
          "Hungary",
          "India",
          "Indonesia",
          "Iran",
          "Iraq",
          "Ireland",
          "Israel",
          "Italy",
          "Ivory Coast",
          "Jamaica",
          "Japan",
          "Jordan",
          "Kazakhstan",
          "Kenya",
          "Kuwait",
          "Kyrgyzstan",
          "Laos",
          "Liberia",
          "Luxembourg",
          "Madagascar",
          "Malawi",
          "Malaysia",
          "Maldives",
          "Mali",
          "Malta",
          "Mauritius",
          "Mexico",
          "Mongolia",
          "Montenegro",
          "Morocco",
          "Mozambique",
          "Myanmar",
          "Namibia",
          "Nepal",
          "Netherlands",
          "New Zealand",
          "Nicaragua",
          "Niger",
          "Nigeria",
          "North Korea",
          "Norway",
          "Oman",
          "Pakistan",
          "Panama",
          "Papua New Guinea",
          "Peru",
          "Philippines",
          "Poland",
          "Portugal",
          "Qatar",
          "Russian Federation",
          "Rwanda",
          "Samoa",
          "Sao Tome",
          "Saudi Arabia",
          "Serbia",
          "Sierra Leone",
          "Singapore",
          "Slovakia",
          "Slovenia",
          "Solomon Islands",
          "South Africa",
          "South Korea",
          "Spain",
          "Sri Lanka",
          "Sudan",
          "Suriname",
          "Sweden",
          "Switzerland",
          "Syria",
          "Taiwan",
          "Tajikistan",
          "Tanzania",
          "Thailand",
          "Togo",
          "Trinidad-Tobago",
          "Turkey",
          "Turkmenistan",
          "UAE",
          "USA",
          "Uganda",
          "Ukraine",
          "Uzbekistan",
          "Venezuela",
          "Vietnam",
          "Yemen",
          "Zambia",
          "Zimbabwe"
         ],
         "locationmode": "country names",
         "locations": [
          "Afghanistan",
          "Algeria",
          "Angola",
          "Antigua and Barbuda",
          "Argentina",
          "Australia",
          "Austria",
          "Azerbaijan",
          "Bahamas",
          "Bangladesh",
          "Belarus",
          "Belgium",
          "Bolivia",
          "Bosnia",
          "Botswana",
          "Brazil",
          "Britain",
          "Brunei",
          "Bulgaria",
          "Cambodia",
          "Cameroon",
          "Canada",
          "Chad",
          "Chile",
          "Colombia",
          "Congo",
          "Croatia",
          "Cuba",
          "Czech Republic",
          "Democratic Republic of the Congo",
          "Denmark",
          "Djibouti",
          "Ecuador",
          "Egypt",
          "Eritrea",
          "Ethiopia",
          "Finland",
          "France",
          "Gabon",
          "Georgia",
          "Germany",
          "Ghana",
          "Greece",
          "Guinea",
          "Guinea-Bissau",
          "Guyana",
          "Hungary",
          "India",
          "Indonesia",
          "Iran",
          "Iraq",
          "Ireland",
          "Israel",
          "Italy",
          "Ivory Coast",
          "Jamaica",
          "Japan",
          "Jordan",
          "Kazakhstan",
          "Kenya",
          "Kuwait",
          "Kyrgyzstan",
          "Laos",
          "Liberia",
          "Luxembourg",
          "Madagascar",
          "Malawi",
          "Malaysia",
          "Maldives",
          "Mali",
          "Malta",
          "Mauritius",
          "Mexico",
          "Mongolia",
          "Montenegro",
          "Morocco",
          "Mozambique",
          "Myanmar",
          "Namibia",
          "Nepal",
          "Netherlands",
          "New Zealand",
          "Nicaragua",
          "Niger",
          "Nigeria",
          "North Korea",
          "Norway",
          "Oman",
          "Pakistan",
          "Panama",
          "Papua New Guinea",
          "Peru",
          "Philippines",
          "Poland",
          "Portugal",
          "Qatar",
          "Russian Federation",
          "Rwanda",
          "Samoa",
          "Sao Tome",
          "Saudi Arabia",
          "Serbia",
          "Sierra Leone",
          "Singapore",
          "Slovakia",
          "Slovenia",
          "Solomon Islands",
          "South Africa",
          "South Korea",
          "Spain",
          "Sri Lanka",
          "Sudan",
          "Suriname",
          "Sweden",
          "Switzerland",
          "Syria",
          "Taiwan",
          "Tajikistan",
          "Tanzania",
          "Thailand",
          "Togo",
          "Trinidad-Tobago",
          "Turkey",
          "Turkmenistan",
          "UAE",
          "USA",
          "Uganda",
          "Ukraine",
          "Uzbekistan",
          "Venezuela",
          "Vietnam",
          "Yemen",
          "Zambia",
          "Zimbabwe"
         ],
         "name": "",
         "type": "choropleth",
         "z": [
          3070,
          430,
          5150,
          740,
          12770,
          105900,
          1110,
          270,
          350,
          7070,
          400,
          4970,
          1780,
          610,
          1880,
          70980,
          100860,
          3440,
          120,
          13240,
          2580,
          57880,
          1630,
          17950,
          6990,
          590,
          220,
          500,
          860,
          18460,
          730,
          700,
          6370,
          6400,
          950,
          2010,
          16630,
          34770,
          400,
          370,
          52110,
          2570,
          9460,
          8260,
          170,
          5280,
          8450,
          17140,
          44360,
          4720,
          14130,
          8120,
          12030,
          24190,
          310,
          1170,
          12780,
          1960,
          20220,
          1320,
          650,
          860,
          15730,
          520,
          4680,
          150,
          100,
          24000,
          110,
          260,
          440,
          740,
          4880,
          4660,
          100,
          970,
          4920,
          6870,
          3510,
          1120,
          21570,
          3690,
          300,
          5570,
          7270,
          2000,
          7970,
          2200,
          16120,
          310,
          2060,
          28480,
          6830,
          1090,
          9480,
          1050,
          34250,
          120,
          110,
          270,
          13930,
          4780,
          4600,
          44040,
          130,
          1390,
          200,
          11440,
          13240,
          10970,
          4300,
          260,
          360,
          16940,
          61800,
          3760,
          1220,
          1000,
          1470,
          7450,
          190,
          1170,
          6190,
          1790,
          8160,
          195340,
          3320,
          180,
          2510,
          4570,
          10400,
          470,
          3770,
          4110
         ]
        }
       ],
       "layout": {
        "annotations": [
         {
          "showarrow": false,
          "text": "Source: American Enterprise Institute | Visualization: https://medium.com/@ranggaakhli",
          "x": 0.5,
          "xref": "paper",
          "y": -0.3,
          "yref": "paper"
         }
        ],
        "coloraxis": {
         "cmax": 195340,
         "cmin": 0,
         "colorbar": {
          "title": {
           "text": "Investment (Millions)"
          }
         },
         "colorscale": [
          [
           0,
           "rgb(253, 253, 204)"
          ],
          [
           0.09090909090909091,
           "rgb(206, 236, 179)"
          ],
          [
           0.18181818181818182,
           "rgb(156, 219, 165)"
          ],
          [
           0.2727272727272727,
           "rgb(111, 201, 163)"
          ],
          [
           0.36363636363636365,
           "rgb(86, 177, 163)"
          ],
          [
           0.45454545454545453,
           "rgb(76, 153, 160)"
          ],
          [
           0.5454545454545454,
           "rgb(68, 130, 155)"
          ],
          [
           0.6363636363636364,
           "rgb(62, 108, 150)"
          ],
          [
           0.7272727272727273,
           "rgb(62, 82, 143)"
          ],
          [
           0.8181818181818182,
           "rgb(64, 60, 115)"
          ],
          [
           0.9090909090909091,
           "rgb(54, 43, 77)"
          ],
          [
           1,
           "rgb(39, 26, 44)"
          ]
         ]
        },
        "geo": {
         "center": {},
         "domain": {
          "x": [
           0,
           1
          ],
          "y": [
           0,
           1
          ]
         },
         "projection": {
          "type": "equirectangular"
         }
        },
        "legend": {
         "tracegroupgap": 0
        },
        "template": {
         "data": {
          "bar": [
           {
            "error_x": {
             "color": "#2a3f5f"
            },
            "error_y": {
             "color": "#2a3f5f"
            },
            "marker": {
             "line": {
              "color": "#E5ECF6",
              "width": 0.5
             },
             "pattern": {
              "fillmode": "overlay",
              "size": 10,
              "solidity": 0.2
             }
            },
            "type": "bar"
           }
          ],
          "barpolar": [
           {
            "marker": {
             "line": {
              "color": "#E5ECF6",
              "width": 0.5
             },
             "pattern": {
              "fillmode": "overlay",
              "size": 10,
              "solidity": 0.2
             }
            },
            "type": "barpolar"
           }
          ],
          "carpet": [
           {
            "aaxis": {
             "endlinecolor": "#2a3f5f",
             "gridcolor": "white",
             "linecolor": "white",
             "minorgridcolor": "white",
             "startlinecolor": "#2a3f5f"
            },
            "baxis": {
             "endlinecolor": "#2a3f5f",
             "gridcolor": "white",
             "linecolor": "white",
             "minorgridcolor": "white",
             "startlinecolor": "#2a3f5f"
            },
            "type": "carpet"
           }
          ],
          "choropleth": [
           {
            "colorbar": {
             "outlinewidth": 0,
             "ticks": ""
            },
            "type": "choropleth"
           }
          ],
          "contour": [
           {
            "colorbar": {
             "outlinewidth": 0,
             "ticks": ""
            },
            "colorscale": [
             [
              0,
              "#0d0887"
             ],
             [
              0.1111111111111111,
              "#46039f"
             ],
             [
              0.2222222222222222,
              "#7201a8"
             ],
             [
              0.3333333333333333,
              "#9c179e"
             ],
             [
              0.4444444444444444,
              "#bd3786"
             ],
             [
              0.5555555555555556,
              "#d8576b"
             ],
             [
              0.6666666666666666,
              "#ed7953"
             ],
             [
              0.7777777777777778,
              "#fb9f3a"
             ],
             [
              0.8888888888888888,
              "#fdca26"
             ],
             [
              1,
              "#f0f921"
             ]
            ],
            "type": "contour"
           }
          ],
          "contourcarpet": [
           {
            "colorbar": {
             "outlinewidth": 0,
             "ticks": ""
            },
            "type": "contourcarpet"
           }
          ],
          "heatmap": [
           {
            "colorbar": {
             "outlinewidth": 0,
             "ticks": ""
            },
            "colorscale": [
             [
              0,
              "#0d0887"
             ],
             [
              0.1111111111111111,
              "#46039f"
             ],
             [
              0.2222222222222222,
              "#7201a8"
             ],
             [
              0.3333333333333333,
              "#9c179e"
             ],
             [
              0.4444444444444444,
              "#bd3786"
             ],
             [
              0.5555555555555556,
              "#d8576b"
             ],
             [
              0.6666666666666666,
              "#ed7953"
             ],
             [
              0.7777777777777778,
              "#fb9f3a"
             ],
             [
              0.8888888888888888,
              "#fdca26"
             ],
             [
              1,
              "#f0f921"
             ]
            ],
            "type": "heatmap"
           }
          ],
          "heatmapgl": [
           {
            "colorbar": {
             "outlinewidth": 0,
             "ticks": ""
            },
            "colorscale": [
             [
              0,
              "#0d0887"
             ],
             [
              0.1111111111111111,
              "#46039f"
             ],
             [
              0.2222222222222222,
              "#7201a8"
             ],
             [
              0.3333333333333333,
              "#9c179e"
             ],
             [
              0.4444444444444444,
              "#bd3786"
             ],
             [
              0.5555555555555556,
              "#d8576b"
             ],
             [
              0.6666666666666666,
              "#ed7953"
             ],
             [
              0.7777777777777778,
              "#fb9f3a"
             ],
             [
              0.8888888888888888,
              "#fdca26"
             ],
             [
              1,
              "#f0f921"
             ]
            ],
            "type": "heatmapgl"
           }
          ],
          "histogram": [
           {
            "marker": {
             "pattern": {
              "fillmode": "overlay",
              "size": 10,
              "solidity": 0.2
             }
            },
            "type": "histogram"
           }
          ],
          "histogram2d": [
           {
            "colorbar": {
             "outlinewidth": 0,
             "ticks": ""
            },
            "colorscale": [
             [
              0,
              "#0d0887"
             ],
             [
              0.1111111111111111,
              "#46039f"
             ],
             [
              0.2222222222222222,
              "#7201a8"
             ],
             [
              0.3333333333333333,
              "#9c179e"
             ],
             [
              0.4444444444444444,
              "#bd3786"
             ],
             [
              0.5555555555555556,
              "#d8576b"
             ],
             [
              0.6666666666666666,
              "#ed7953"
             ],
             [
              0.7777777777777778,
              "#fb9f3a"
             ],
             [
              0.8888888888888888,
              "#fdca26"
             ],
             [
              1,
              "#f0f921"
             ]
            ],
            "type": "histogram2d"
           }
          ],
          "histogram2dcontour": [
           {
            "colorbar": {
             "outlinewidth": 0,
             "ticks": ""
            },
            "colorscale": [
             [
              0,
              "#0d0887"
             ],
             [
              0.1111111111111111,
              "#46039f"
             ],
             [
              0.2222222222222222,
              "#7201a8"
             ],
             [
              0.3333333333333333,
              "#9c179e"
             ],
             [
              0.4444444444444444,
              "#bd3786"
             ],
             [
              0.5555555555555556,
              "#d8576b"
             ],
             [
              0.6666666666666666,
              "#ed7953"
             ],
             [
              0.7777777777777778,
              "#fb9f3a"
             ],
             [
              0.8888888888888888,
              "#fdca26"
             ],
             [
              1,
              "#f0f921"
             ]
            ],
            "type": "histogram2dcontour"
           }
          ],
          "mesh3d": [
           {
            "colorbar": {
             "outlinewidth": 0,
             "ticks": ""
            },
            "type": "mesh3d"
           }
          ],
          "parcoords": [
           {
            "line": {
             "colorbar": {
              "outlinewidth": 0,
              "ticks": ""
             }
            },
            "type": "parcoords"
           }
          ],
          "pie": [
           {
            "automargin": true,
            "type": "pie"
           }
          ],
          "scatter": [
           {
            "fillpattern": {
             "fillmode": "overlay",
             "size": 10,
             "solidity": 0.2
            },
            "type": "scatter"
           }
          ],
          "scatter3d": [
           {
            "line": {
             "colorbar": {
              "outlinewidth": 0,
              "ticks": ""
             }
            },
            "marker": {
             "colorbar": {
              "outlinewidth": 0,
              "ticks": ""
             }
            },
            "type": "scatter3d"
           }
          ],
          "scattercarpet": [
           {
            "marker": {
             "colorbar": {
              "outlinewidth": 0,
              "ticks": ""
             }
            },
            "type": "scattercarpet"
           }
          ],
          "scattergeo": [
           {
            "marker": {
             "colorbar": {
              "outlinewidth": 0,
              "ticks": ""
             }
            },
            "type": "scattergeo"
           }
          ],
          "scattergl": [
           {
            "marker": {
             "colorbar": {
              "outlinewidth": 0,
              "ticks": ""
             }
            },
            "type": "scattergl"
           }
          ],
          "scattermapbox": [
           {
            "marker": {
             "colorbar": {
              "outlinewidth": 0,
              "ticks": ""
             }
            },
            "type": "scattermapbox"
           }
          ],
          "scatterpolar": [
           {
            "marker": {
             "colorbar": {
              "outlinewidth": 0,
              "ticks": ""
             }
            },
            "type": "scatterpolar"
           }
          ],
          "scatterpolargl": [
           {
            "marker": {
             "colorbar": {
              "outlinewidth": 0,
              "ticks": ""
             }
            },
            "type": "scatterpolargl"
           }
          ],
          "scatterternary": [
           {
            "marker": {
             "colorbar": {
              "outlinewidth": 0,
              "ticks": ""
             }
            },
            "type": "scatterternary"
           }
          ],
          "surface": [
           {
            "colorbar": {
             "outlinewidth": 0,
             "ticks": ""
            },
            "colorscale": [
             [
              0,
              "#0d0887"
             ],
             [
              0.1111111111111111,
              "#46039f"
             ],
             [
              0.2222222222222222,
              "#7201a8"
             ],
             [
              0.3333333333333333,
              "#9c179e"
             ],
             [
              0.4444444444444444,
              "#bd3786"
             ],
             [
              0.5555555555555556,
              "#d8576b"
             ],
             [
              0.6666666666666666,
              "#ed7953"
             ],
             [
              0.7777777777777778,
              "#fb9f3a"
             ],
             [
              0.8888888888888888,
              "#fdca26"
             ],
             [
              1,
              "#f0f921"
             ]
            ],
            "type": "surface"
           }
          ],
          "table": [
           {
            "cells": {
             "fill": {
              "color": "#EBF0F8"
             },
             "line": {
              "color": "white"
             }
            },
            "header": {
             "fill": {
              "color": "#C8D4E3"
             },
             "line": {
              "color": "white"
             }
            },
            "type": "table"
           }
          ]
         },
         "layout": {
          "annotationdefaults": {
           "arrowcolor": "#2a3f5f",
           "arrowhead": 0,
           "arrowwidth": 1
          },
          "autotypenumbers": "strict",
          "coloraxis": {
           "colorbar": {
            "outlinewidth": 0,
            "ticks": ""
           }
          },
          "colorscale": {
           "diverging": [
            [
             0,
             "#8e0152"
            ],
            [
             0.1,
             "#c51b7d"
            ],
            [
             0.2,
             "#de77ae"
            ],
            [
             0.3,
             "#f1b6da"
            ],
            [
             0.4,
             "#fde0ef"
            ],
            [
             0.5,
             "#f7f7f7"
            ],
            [
             0.6,
             "#e6f5d0"
            ],
            [
             0.7,
             "#b8e186"
            ],
            [
             0.8,
             "#7fbc41"
            ],
            [
             0.9,
             "#4d9221"
            ],
            [
             1,
             "#276419"
            ]
           ],
           "sequential": [
            [
             0,
             "#0d0887"
            ],
            [
             0.1111111111111111,
             "#46039f"
            ],
            [
             0.2222222222222222,
             "#7201a8"
            ],
            [
             0.3333333333333333,
             "#9c179e"
            ],
            [
             0.4444444444444444,
             "#bd3786"
            ],
            [
             0.5555555555555556,
             "#d8576b"
            ],
            [
             0.6666666666666666,
             "#ed7953"
            ],
            [
             0.7777777777777778,
             "#fb9f3a"
            ],
            [
             0.8888888888888888,
             "#fdca26"
            ],
            [
             1,
             "#f0f921"
            ]
           ],
           "sequentialminus": [
            [
             0,
             "#0d0887"
            ],
            [
             0.1111111111111111,
             "#46039f"
            ],
            [
             0.2222222222222222,
             "#7201a8"
            ],
            [
             0.3333333333333333,
             "#9c179e"
            ],
            [
             0.4444444444444444,
             "#bd3786"
            ],
            [
             0.5555555555555556,
             "#d8576b"
            ],
            [
             0.6666666666666666,
             "#ed7953"
            ],
            [
             0.7777777777777778,
             "#fb9f3a"
            ],
            [
             0.8888888888888888,
             "#fdca26"
            ],
            [
             1,
             "#f0f921"
            ]
           ]
          },
          "colorway": [
           "#636efa",
           "#EF553B",
           "#00cc96",
           "#ab63fa",
           "#FFA15A",
           "#19d3f3",
           "#FF6692",
           "#B6E880",
           "#FF97FF",
           "#FECB52"
          ],
          "font": {
           "color": "#2a3f5f"
          },
          "geo": {
           "bgcolor": "white",
           "lakecolor": "white",
           "landcolor": "#E5ECF6",
           "showlakes": true,
           "showland": true,
           "subunitcolor": "white"
          },
          "hoverlabel": {
           "align": "left"
          },
          "hovermode": "closest",
          "mapbox": {
           "style": "light"
          },
          "paper_bgcolor": "white",
          "plot_bgcolor": "#E5ECF6",
          "polar": {
           "angularaxis": {
            "gridcolor": "white",
            "linecolor": "white",
            "ticks": ""
           },
           "bgcolor": "#E5ECF6",
           "radialaxis": {
            "gridcolor": "white",
            "linecolor": "white",
            "ticks": ""
           }
          },
          "scene": {
           "xaxis": {
            "backgroundcolor": "#E5ECF6",
            "gridcolor": "white",
            "gridwidth": 2,
            "linecolor": "white",
            "showbackground": true,
            "ticks": "",
            "zerolinecolor": "white"
           },
           "yaxis": {
            "backgroundcolor": "#E5ECF6",
            "gridcolor": "white",
            "gridwidth": 2,
            "linecolor": "white",
            "showbackground": true,
            "ticks": "",
            "zerolinecolor": "white"
           },
           "zaxis": {
            "backgroundcolor": "#E5ECF6",
            "gridcolor": "white",
            "gridwidth": 2,
            "linecolor": "white",
            "showbackground": true,
            "ticks": "",
            "zerolinecolor": "white"
           }
          },
          "shapedefaults": {
           "line": {
            "color": "#2a3f5f"
           }
          },
          "ternary": {
           "aaxis": {
            "gridcolor": "white",
            "linecolor": "white",
            "ticks": ""
           },
           "baxis": {
            "gridcolor": "white",
            "linecolor": "white",
            "ticks": ""
           },
           "bgcolor": "#E5ECF6",
           "caxis": {
            "gridcolor": "white",
            "linecolor": "white",
            "ticks": ""
           }
          },
          "title": {
           "x": 0.05
          },
          "xaxis": {
           "automargin": true,
           "gridcolor": "white",
           "linecolor": "white",
           "ticks": "",
           "title": {
            "standoff": 15
           },
           "zerolinecolor": "white",
           "zerolinewidth": 2
          },
          "yaxis": {
           "automargin": true,
           "gridcolor": "white",
           "linecolor": "white",
           "ticks": "",
           "title": {
            "standoff": 15
           },
           "zerolinecolor": "white",
           "zerolinewidth": 2
          }
         }
        },
        "title": {
         "text": "Distribution Map of China Global Investments by Country"
        }
       }
      }
     },
     "metadata": {},
     "output_type": "display_data"
    }
   ],
   "source": [
    "# Group investment data by country, sum the quantities\n",
    "investment_by_country = investment_data.groupby('Country')['Quantity in Millions'].sum().reset_index()\n",
    "\n",
    "# Create choropleth map to visualize the distribution of investments by country\n",
    "fig = px.choropleth(investment_by_country, \n",
    "                    locations='Country', \n",
    "                    locationmode='country names',\n",
    "                    color='Quantity in Millions',\n",
    "                    color_continuous_scale='Deep',  # Use a different color scale\n",
    "                    range_color=(0, investment_by_country['Quantity in Millions'].max()),  # Set the color scale range\n",
    "                    hover_name='Country',  # Add hover information\n",
    "                    hover_data={'Quantity in Millions': True},\n",
    "                    title='Distribution Map of China Global Investments by Country',\n",
    "                    labels={'Quantity in Millions': 'Investment (Millions)'}\n",
    "                   )\n",
    "\n",
    "# Change the projection of the map to equirectangular\n",
    "fig.update_geos(projection_type=\"equirectangular\")\n",
    "\n",
    "# Update color bar title\n",
    "fig.update_layout(coloraxis_colorbar=dict(title='Investment (Millions)'))\n",
    "\n",
    "fig.add_annotation(text=\"Source: American Enterprise Institute | Visualization: https://medium.com/@ranggaakhli\", xref=\"paper\", yref=\"paper\", x=0.5, y=-0.3, showarrow=False)\n",
    "\n",
    "\n",
    "fig.show()\n"
   ]
  },
  {
   "cell_type": "code",
   "execution_count": 7,
   "metadata": {},
   "outputs": [
    {
     "data": {
      "application/vnd.plotly.v1+json": {
       "config": {
        "plotlyServerURL": "https://plot.ly"
       },
       "data": [
        {
         "hovertemplate": "<b>%{hovertext}</b><br><br>Sector=%{y}<br>Source: American Enterprise Institute | Visualization: https://medium.com/@ranggaakhli=%{x}<br>Investment (Millions)=%{marker.size}<extra></extra>",
         "hovertext": [
          "Energy",
          "Energy",
          "Energy",
          "Energy",
          "Energy",
          "Energy",
          "Energy",
          "Energy"
         ],
         "legendgroup": "Energy",
         "marker": {
          "color": "#636efa",
          "size": [
           43910,
           37350,
           52690,
           63010,
           45480,
           92420,
           28080,
           71450
          ],
          "sizemode": "area",
          "sizeref": 36.968,
          "symbol": "circle"
         },
         "mode": "markers",
         "name": "Energy",
         "orientation": "v",
         "showlegend": true,
         "type": "scatter",
         "x": [
          "Arab Middle East and North Africa",
          "Australia",
          "East Asia",
          "Europe",
          "North America",
          "South America",
          "Sub-Saharan Africa",
          "West Asia"
         ],
         "xaxis": "x",
         "y": [
          "Energy",
          "Energy",
          "Energy",
          "Energy",
          "Energy",
          "Energy",
          "Energy",
          "Energy"
         ],
         "yaxis": "y"
        },
        {
         "hovertemplate": "<b>%{hovertext}</b><br><br>Sector=%{y}<br>Source: American Enterprise Institute | Visualization: https://medium.com/@ranggaakhli=%{x}<br>Investment (Millions)=%{marker.size}<extra></extra>",
         "hovertext": [
          "Other",
          "Other",
          "Other",
          "Other",
          "Other",
          "Other"
         ],
         "legendgroup": "Other",
         "marker": {
          "color": "#EF553B",
          "size": [
           4440,
           47480,
           71260,
           5010,
           49350,
           12840
          ],
          "sizemode": "area",
          "sizeref": 36.968,
          "symbol": "circle"
         },
         "mode": "markers",
         "name": "Other",
         "orientation": "v",
         "showlegend": true,
         "type": "scatter",
         "x": [
          "Arab Middle East and North Africa",
          "East Asia",
          "Europe",
          "North America",
          "USA",
          "West Asia"
         ],
         "xaxis": "x",
         "y": [
          "Other",
          "Other",
          "Other",
          "Other",
          "Other",
          "Other"
         ],
         "yaxis": "y"
        },
        {
         "hovertemplate": "<b>%{hovertext}</b><br><br>Sector=%{y}<br>Source: American Enterprise Institute | Visualization: https://medium.com/@ranggaakhli=%{x}<br>Investment (Millions)=%{marker.size}<extra></extra>",
         "hovertext": [
          "Metals",
          "Metals",
          "Metals",
          "Metals",
          "Metals",
          "Metals"
         ],
         "legendgroup": "Metals",
         "marker": {
          "color": "#00cc96",
          "size": [
           2730,
           35070,
           9750,
           36870,
           45040,
           11850
          ],
          "sizemode": "area",
          "sizeref": 36.968,
          "symbol": "circle"
         },
         "mode": "markers",
         "name": "Metals",
         "orientation": "v",
         "showlegend": true,
         "type": "scatter",
         "x": [
          "Arab Middle East and North Africa",
          "Australia",
          "North America",
          "South America",
          "Sub-Saharan Africa",
          "West Asia"
         ],
         "xaxis": "x",
         "y": [
          "Metals",
          "Metals",
          "Metals",
          "Metals",
          "Metals",
          "Metals"
         ],
         "yaxis": "y"
        },
        {
         "hovertemplate": "<b>%{hovertext}</b><br><br>Sector=%{y}<br>Source: American Enterprise Institute | Visualization: https://medium.com/@ranggaakhli=%{x}<br>Investment (Millions)=%{marker.size}<extra></extra>",
         "hovertext": [
          "Real estate",
          "Real estate",
          "Real estate"
         ],
         "legendgroup": "Real estate",
         "marker": {
          "color": "#ab63fa",
          "size": [
           12430,
           9560,
           32600
          ],
          "sizemode": "area",
          "sizeref": 36.968,
          "symbol": "circle"
         },
         "mode": "markers",
         "name": "Real estate",
         "orientation": "v",
         "showlegend": true,
         "type": "scatter",
         "x": [
          "Australia",
          "Sub-Saharan Africa",
          "USA"
         ],
         "xaxis": "x",
         "y": [
          "Real estate",
          "Real estate",
          "Real estate"
         ],
         "yaxis": "y"
        },
        {
         "hovertemplate": "<b>%{hovertext}</b><br><br>Sector=%{y}<br>Source: American Enterprise Institute | Visualization: https://medium.com/@ranggaakhli=%{x}<br>Investment (Millions)=%{marker.size}<extra></extra>",
         "hovertext": [
          "Transport",
          "Transport",
          "Transport",
          "Transport"
         ],
         "legendgroup": "Transport",
         "marker": {
          "color": "#FFA15A",
          "size": [
           36160,
           77210,
           13070,
           24100
          ],
          "sizemode": "area",
          "sizeref": 36.968,
          "symbol": "circle"
         },
         "mode": "markers",
         "name": "Transport",
         "orientation": "v",
         "showlegend": true,
         "type": "scatter",
         "x": [
          "East Asia",
          "Europe",
          "South America",
          "USA"
         ],
         "xaxis": "x",
         "y": [
          "Transport",
          "Transport",
          "Transport",
          "Transport"
         ],
         "yaxis": "y"
        }
       ],
       "layout": {
        "legend": {
         "itemsizing": "constant",
         "title": {
          "text": "Sector"
         },
         "tracegroupgap": 0
        },
        "template": {
         "data": {
          "bar": [
           {
            "error_x": {
             "color": "#2a3f5f"
            },
            "error_y": {
             "color": "#2a3f5f"
            },
            "marker": {
             "line": {
              "color": "#E5ECF6",
              "width": 0.5
             },
             "pattern": {
              "fillmode": "overlay",
              "size": 10,
              "solidity": 0.2
             }
            },
            "type": "bar"
           }
          ],
          "barpolar": [
           {
            "marker": {
             "line": {
              "color": "#E5ECF6",
              "width": 0.5
             },
             "pattern": {
              "fillmode": "overlay",
              "size": 10,
              "solidity": 0.2
             }
            },
            "type": "barpolar"
           }
          ],
          "carpet": [
           {
            "aaxis": {
             "endlinecolor": "#2a3f5f",
             "gridcolor": "white",
             "linecolor": "white",
             "minorgridcolor": "white",
             "startlinecolor": "#2a3f5f"
            },
            "baxis": {
             "endlinecolor": "#2a3f5f",
             "gridcolor": "white",
             "linecolor": "white",
             "minorgridcolor": "white",
             "startlinecolor": "#2a3f5f"
            },
            "type": "carpet"
           }
          ],
          "choropleth": [
           {
            "colorbar": {
             "outlinewidth": 0,
             "ticks": ""
            },
            "type": "choropleth"
           }
          ],
          "contour": [
           {
            "colorbar": {
             "outlinewidth": 0,
             "ticks": ""
            },
            "colorscale": [
             [
              0,
              "#0d0887"
             ],
             [
              0.1111111111111111,
              "#46039f"
             ],
             [
              0.2222222222222222,
              "#7201a8"
             ],
             [
              0.3333333333333333,
              "#9c179e"
             ],
             [
              0.4444444444444444,
              "#bd3786"
             ],
             [
              0.5555555555555556,
              "#d8576b"
             ],
             [
              0.6666666666666666,
              "#ed7953"
             ],
             [
              0.7777777777777778,
              "#fb9f3a"
             ],
             [
              0.8888888888888888,
              "#fdca26"
             ],
             [
              1,
              "#f0f921"
             ]
            ],
            "type": "contour"
           }
          ],
          "contourcarpet": [
           {
            "colorbar": {
             "outlinewidth": 0,
             "ticks": ""
            },
            "type": "contourcarpet"
           }
          ],
          "heatmap": [
           {
            "colorbar": {
             "outlinewidth": 0,
             "ticks": ""
            },
            "colorscale": [
             [
              0,
              "#0d0887"
             ],
             [
              0.1111111111111111,
              "#46039f"
             ],
             [
              0.2222222222222222,
              "#7201a8"
             ],
             [
              0.3333333333333333,
              "#9c179e"
             ],
             [
              0.4444444444444444,
              "#bd3786"
             ],
             [
              0.5555555555555556,
              "#d8576b"
             ],
             [
              0.6666666666666666,
              "#ed7953"
             ],
             [
              0.7777777777777778,
              "#fb9f3a"
             ],
             [
              0.8888888888888888,
              "#fdca26"
             ],
             [
              1,
              "#f0f921"
             ]
            ],
            "type": "heatmap"
           }
          ],
          "heatmapgl": [
           {
            "colorbar": {
             "outlinewidth": 0,
             "ticks": ""
            },
            "colorscale": [
             [
              0,
              "#0d0887"
             ],
             [
              0.1111111111111111,
              "#46039f"
             ],
             [
              0.2222222222222222,
              "#7201a8"
             ],
             [
              0.3333333333333333,
              "#9c179e"
             ],
             [
              0.4444444444444444,
              "#bd3786"
             ],
             [
              0.5555555555555556,
              "#d8576b"
             ],
             [
              0.6666666666666666,
              "#ed7953"
             ],
             [
              0.7777777777777778,
              "#fb9f3a"
             ],
             [
              0.8888888888888888,
              "#fdca26"
             ],
             [
              1,
              "#f0f921"
             ]
            ],
            "type": "heatmapgl"
           }
          ],
          "histogram": [
           {
            "marker": {
             "pattern": {
              "fillmode": "overlay",
              "size": 10,
              "solidity": 0.2
             }
            },
            "type": "histogram"
           }
          ],
          "histogram2d": [
           {
            "colorbar": {
             "outlinewidth": 0,
             "ticks": ""
            },
            "colorscale": [
             [
              0,
              "#0d0887"
             ],
             [
              0.1111111111111111,
              "#46039f"
             ],
             [
              0.2222222222222222,
              "#7201a8"
             ],
             [
              0.3333333333333333,
              "#9c179e"
             ],
             [
              0.4444444444444444,
              "#bd3786"
             ],
             [
              0.5555555555555556,
              "#d8576b"
             ],
             [
              0.6666666666666666,
              "#ed7953"
             ],
             [
              0.7777777777777778,
              "#fb9f3a"
             ],
             [
              0.8888888888888888,
              "#fdca26"
             ],
             [
              1,
              "#f0f921"
             ]
            ],
            "type": "histogram2d"
           }
          ],
          "histogram2dcontour": [
           {
            "colorbar": {
             "outlinewidth": 0,
             "ticks": ""
            },
            "colorscale": [
             [
              0,
              "#0d0887"
             ],
             [
              0.1111111111111111,
              "#46039f"
             ],
             [
              0.2222222222222222,
              "#7201a8"
             ],
             [
              0.3333333333333333,
              "#9c179e"
             ],
             [
              0.4444444444444444,
              "#bd3786"
             ],
             [
              0.5555555555555556,
              "#d8576b"
             ],
             [
              0.6666666666666666,
              "#ed7953"
             ],
             [
              0.7777777777777778,
              "#fb9f3a"
             ],
             [
              0.8888888888888888,
              "#fdca26"
             ],
             [
              1,
              "#f0f921"
             ]
            ],
            "type": "histogram2dcontour"
           }
          ],
          "mesh3d": [
           {
            "colorbar": {
             "outlinewidth": 0,
             "ticks": ""
            },
            "type": "mesh3d"
           }
          ],
          "parcoords": [
           {
            "line": {
             "colorbar": {
              "outlinewidth": 0,
              "ticks": ""
             }
            },
            "type": "parcoords"
           }
          ],
          "pie": [
           {
            "automargin": true,
            "type": "pie"
           }
          ],
          "scatter": [
           {
            "fillpattern": {
             "fillmode": "overlay",
             "size": 10,
             "solidity": 0.2
            },
            "type": "scatter"
           }
          ],
          "scatter3d": [
           {
            "line": {
             "colorbar": {
              "outlinewidth": 0,
              "ticks": ""
             }
            },
            "marker": {
             "colorbar": {
              "outlinewidth": 0,
              "ticks": ""
             }
            },
            "type": "scatter3d"
           }
          ],
          "scattercarpet": [
           {
            "marker": {
             "colorbar": {
              "outlinewidth": 0,
              "ticks": ""
             }
            },
            "type": "scattercarpet"
           }
          ],
          "scattergeo": [
           {
            "marker": {
             "colorbar": {
              "outlinewidth": 0,
              "ticks": ""
             }
            },
            "type": "scattergeo"
           }
          ],
          "scattergl": [
           {
            "marker": {
             "colorbar": {
              "outlinewidth": 0,
              "ticks": ""
             }
            },
            "type": "scattergl"
           }
          ],
          "scattermapbox": [
           {
            "marker": {
             "colorbar": {
              "outlinewidth": 0,
              "ticks": ""
             }
            },
            "type": "scattermapbox"
           }
          ],
          "scatterpolar": [
           {
            "marker": {
             "colorbar": {
              "outlinewidth": 0,
              "ticks": ""
             }
            },
            "type": "scatterpolar"
           }
          ],
          "scatterpolargl": [
           {
            "marker": {
             "colorbar": {
              "outlinewidth": 0,
              "ticks": ""
             }
            },
            "type": "scatterpolargl"
           }
          ],
          "scatterternary": [
           {
            "marker": {
             "colorbar": {
              "outlinewidth": 0,
              "ticks": ""
             }
            },
            "type": "scatterternary"
           }
          ],
          "surface": [
           {
            "colorbar": {
             "outlinewidth": 0,
             "ticks": ""
            },
            "colorscale": [
             [
              0,
              "#0d0887"
             ],
             [
              0.1111111111111111,
              "#46039f"
             ],
             [
              0.2222222222222222,
              "#7201a8"
             ],
             [
              0.3333333333333333,
              "#9c179e"
             ],
             [
              0.4444444444444444,
              "#bd3786"
             ],
             [
              0.5555555555555556,
              "#d8576b"
             ],
             [
              0.6666666666666666,
              "#ed7953"
             ],
             [
              0.7777777777777778,
              "#fb9f3a"
             ],
             [
              0.8888888888888888,
              "#fdca26"
             ],
             [
              1,
              "#f0f921"
             ]
            ],
            "type": "surface"
           }
          ],
          "table": [
           {
            "cells": {
             "fill": {
              "color": "#EBF0F8"
             },
             "line": {
              "color": "white"
             }
            },
            "header": {
             "fill": {
              "color": "#C8D4E3"
             },
             "line": {
              "color": "white"
             }
            },
            "type": "table"
           }
          ]
         },
         "layout": {
          "annotationdefaults": {
           "arrowcolor": "#2a3f5f",
           "arrowhead": 0,
           "arrowwidth": 1
          },
          "autotypenumbers": "strict",
          "coloraxis": {
           "colorbar": {
            "outlinewidth": 0,
            "ticks": ""
           }
          },
          "colorscale": {
           "diverging": [
            [
             0,
             "#8e0152"
            ],
            [
             0.1,
             "#c51b7d"
            ],
            [
             0.2,
             "#de77ae"
            ],
            [
             0.3,
             "#f1b6da"
            ],
            [
             0.4,
             "#fde0ef"
            ],
            [
             0.5,
             "#f7f7f7"
            ],
            [
             0.6,
             "#e6f5d0"
            ],
            [
             0.7,
             "#b8e186"
            ],
            [
             0.8,
             "#7fbc41"
            ],
            [
             0.9,
             "#4d9221"
            ],
            [
             1,
             "#276419"
            ]
           ],
           "sequential": [
            [
             0,
             "#0d0887"
            ],
            [
             0.1111111111111111,
             "#46039f"
            ],
            [
             0.2222222222222222,
             "#7201a8"
            ],
            [
             0.3333333333333333,
             "#9c179e"
            ],
            [
             0.4444444444444444,
             "#bd3786"
            ],
            [
             0.5555555555555556,
             "#d8576b"
            ],
            [
             0.6666666666666666,
             "#ed7953"
            ],
            [
             0.7777777777777778,
             "#fb9f3a"
            ],
            [
             0.8888888888888888,
             "#fdca26"
            ],
            [
             1,
             "#f0f921"
            ]
           ],
           "sequentialminus": [
            [
             0,
             "#0d0887"
            ],
            [
             0.1111111111111111,
             "#46039f"
            ],
            [
             0.2222222222222222,
             "#7201a8"
            ],
            [
             0.3333333333333333,
             "#9c179e"
            ],
            [
             0.4444444444444444,
             "#bd3786"
            ],
            [
             0.5555555555555556,
             "#d8576b"
            ],
            [
             0.6666666666666666,
             "#ed7953"
            ],
            [
             0.7777777777777778,
             "#fb9f3a"
            ],
            [
             0.8888888888888888,
             "#fdca26"
            ],
            [
             1,
             "#f0f921"
            ]
           ]
          },
          "colorway": [
           "#636efa",
           "#EF553B",
           "#00cc96",
           "#ab63fa",
           "#FFA15A",
           "#19d3f3",
           "#FF6692",
           "#B6E880",
           "#FF97FF",
           "#FECB52"
          ],
          "font": {
           "color": "#2a3f5f"
          },
          "geo": {
           "bgcolor": "white",
           "lakecolor": "white",
           "landcolor": "#E5ECF6",
           "showlakes": true,
           "showland": true,
           "subunitcolor": "white"
          },
          "hoverlabel": {
           "align": "left"
          },
          "hovermode": "closest",
          "mapbox": {
           "style": "light"
          },
          "paper_bgcolor": "white",
          "plot_bgcolor": "#E5ECF6",
          "polar": {
           "angularaxis": {
            "gridcolor": "white",
            "linecolor": "white",
            "ticks": ""
           },
           "bgcolor": "#E5ECF6",
           "radialaxis": {
            "gridcolor": "white",
            "linecolor": "white",
            "ticks": ""
           }
          },
          "scene": {
           "xaxis": {
            "backgroundcolor": "#E5ECF6",
            "gridcolor": "white",
            "gridwidth": 2,
            "linecolor": "white",
            "showbackground": true,
            "ticks": "",
            "zerolinecolor": "white"
           },
           "yaxis": {
            "backgroundcolor": "#E5ECF6",
            "gridcolor": "white",
            "gridwidth": 2,
            "linecolor": "white",
            "showbackground": true,
            "ticks": "",
            "zerolinecolor": "white"
           },
           "zaxis": {
            "backgroundcolor": "#E5ECF6",
            "gridcolor": "white",
            "gridwidth": 2,
            "linecolor": "white",
            "showbackground": true,
            "ticks": "",
            "zerolinecolor": "white"
           }
          },
          "shapedefaults": {
           "line": {
            "color": "#2a3f5f"
           }
          },
          "ternary": {
           "aaxis": {
            "gridcolor": "white",
            "linecolor": "white",
            "ticks": ""
           },
           "baxis": {
            "gridcolor": "white",
            "linecolor": "white",
            "ticks": ""
           },
           "bgcolor": "#E5ECF6",
           "caxis": {
            "gridcolor": "white",
            "linecolor": "white",
            "ticks": ""
           }
          },
          "title": {
           "x": 0.05
          },
          "xaxis": {
           "automargin": true,
           "gridcolor": "white",
           "linecolor": "white",
           "ticks": "",
           "title": {
            "standoff": 15
           },
           "zerolinecolor": "white",
           "zerolinewidth": 2
          },
          "yaxis": {
           "automargin": true,
           "gridcolor": "white",
           "linecolor": "white",
           "ticks": "",
           "title": {
            "standoff": 15
           },
           "zerolinecolor": "white",
           "zerolinewidth": 2
          }
         }
        },
        "title": {
         "text": "Top 3 Sectors by Investment Amount in Each Region"
        },
        "xaxis": {
         "anchor": "y",
         "domain": [
          0,
          1
         ],
         "title": {
          "text": "Source: American Enterprise Institute | Visualization: https://medium.com/@ranggaakhli"
         }
        },
        "yaxis": {
         "anchor": "x",
         "categoryarray": [
          "Transport",
          "Real estate",
          "Metals",
          "Other",
          "Energy"
         ],
         "categoryorder": "array",
         "domain": [
          0,
          1
         ],
         "title": {
          "text": "Sector"
         }
        }
       }
      }
     },
     "metadata": {},
     "output_type": "display_data"
    }
   ],
   "source": [
    "# Group investment data by sector, region, and sum the quantities\n",
    "investment_by_sector_region = investment_data.groupby(['Sector', 'Region'])['Quantity in Millions'].sum().reset_index()\n",
    "\n",
    "# Sort the data to get the top 3 sectors by investment amount in each region\n",
    "top_sectors_by_region = investment_by_sector_region.groupby('Region').apply(lambda x: x.nlargest(3, 'Quantity in Millions')).reset_index(drop=True)\n",
    "\n",
    "# Create a bubble chart to visualize the top 3 sectors by investment amount in each region\n",
    "fig = px.scatter(top_sectors_by_region, x='Region', y='Sector', size='Quantity in Millions', \n",
    "                 color='Sector', hover_name='Sector', \n",
    "                 title='Top 3 Sectors by Investment Amount in Each Region',\n",
    "                 labels={'Region': 'Source: American Enterprise Institute | Visualization: https://medium.com/@ranggaakhli', 'Sector': 'Sector', 'Quantity in Millions': 'Investment (Millions)'},\n",
    "                 size_max=50)\n",
    "\n",
    "\n",
    "\n",
    "fig.show()\n"
   ]
  }
 ],
 "metadata": {
  "kernelspec": {
   "display_name": "base",
   "language": "python",
   "name": "python3"
  },
  "language_info": {
   "codemirror_mode": {
    "name": "ipython",
    "version": 3
   },
   "file_extension": ".py",
   "mimetype": "text/x-python",
   "name": "python",
   "nbconvert_exporter": "python",
   "pygments_lexer": "ipython3",
   "version": "3.11.8"
  }
 },
 "nbformat": 4,
 "nbformat_minor": 2
}
